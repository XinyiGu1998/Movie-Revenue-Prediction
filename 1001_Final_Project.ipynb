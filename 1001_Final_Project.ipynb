{
  "nbformat": 4,
  "nbformat_minor": 0,
  "metadata": {
    "colab": {
      "name": "1001 Final Project.ipynb",
      "provenance": [],
      "collapsed_sections": []
    },
    "kernelspec": {
      "name": "python3",
      "display_name": "Python 3"
    }
  },
  "cells": [
    {
      "cell_type": "code",
      "metadata": {
        "id": "VuRSzY1xi48E",
        "colab": {
          "base_uri": "https://localhost:8080/"
        },
        "outputId": "ce6616bb-44e5-45e5-c324-d490767db2ba"
      },
      "source": [
        "from google.colab import drive\n",
        "drive.mount('/content/drive')"
      ],
      "execution_count": null,
      "outputs": [
        {
          "output_type": "stream",
          "text": [
            "Mounted at /content/drive\n"
          ],
          "name": "stdout"
        }
      ]
    },
    {
      "cell_type": "code",
      "metadata": {
        "id": "YKyfL5Ii1nKB"
      },
      "source": [
        "# data = pd.read_csv(\"/content/drive/My Drive/academic/1001FinalProject/data/analysis_based_table.csv\")"
      ],
      "execution_count": null,
      "outputs": []
    },
    {
      "cell_type": "markdown",
      "metadata": {
        "id": "SM7KWp7-8DuB"
      },
      "source": [
        "# Master code"
      ]
    },
    {
      "cell_type": "code",
      "metadata": {
        "id": "x720PucRzyWF"
      },
      "source": [
        "# Import packages\n",
        "import pandas as pd\n",
        "import numpy as np\n",
        "import sklearn as skn\n",
        "import matplotlib.pyplot as plt\n",
        "import seaborn as sn\n",
        "import ast\n",
        "import json\n",
        "import re\n",
        "from sklearn.preprocessing import OneHotEncoder"
      ],
      "execution_count": null,
      "outputs": []
    },
    {
      "cell_type": "code",
      "metadata": {
        "id": "e_J3TpfS0Gx5"
      },
      "source": [
        "# Import data\n",
        "inflation = pd.read_csv(\"/content/drive/My Drive/academic/1001FinalProject/data/Inflation_Rate_1914_2020.csv\", index_col = 0)\n",
        "movies = pd.read_csv(\"/content/drive/My Drive/academic/1001FinalProject/data/movies.csv\")\n",
        "oscar = pd.read_csv(\"/content/drive/My Drive/academic/1001FinalProject/data/the_oscar_award.csv\")\n",
        "rot_movies = pd.read_csv(\"/content/drive/My Drive/academic/1001FinalProject/data/rotten/rt_movie_info.csv\")"
      ],
      "execution_count": null,
      "outputs": []
    },
    {
      "cell_type": "code",
      "metadata": {
        "id": "Fbt7NY6p1Udb",
        "colab": {
          "base_uri": "https://localhost:8080/",
          "height": 606
        },
        "outputId": "ee82a1dc-9b90-40cc-bee3-c26df530a338"
      },
      "source": [
        "movies"
      ],
      "execution_count": null,
      "outputs": [
        {
          "output_type": "execute_result",
          "data": {
            "text/html": [
              "<div>\n",
              "<style scoped>\n",
              "    .dataframe tbody tr th:only-of-type {\n",
              "        vertical-align: middle;\n",
              "    }\n",
              "\n",
              "    .dataframe tbody tr th {\n",
              "        vertical-align: top;\n",
              "    }\n",
              "\n",
              "    .dataframe thead th {\n",
              "        text-align: right;\n",
              "    }\n",
              "</style>\n",
              "<table border=\"1\" class=\"dataframe\">\n",
              "  <thead>\n",
              "    <tr style=\"text-align: right;\">\n",
              "      <th></th>\n",
              "      <th>budget</th>\n",
              "      <th>company</th>\n",
              "      <th>country</th>\n",
              "      <th>director</th>\n",
              "      <th>genre</th>\n",
              "      <th>gross</th>\n",
              "      <th>name</th>\n",
              "      <th>rating</th>\n",
              "      <th>released</th>\n",
              "      <th>runtime</th>\n",
              "      <th>score</th>\n",
              "      <th>star</th>\n",
              "      <th>votes</th>\n",
              "      <th>writer</th>\n",
              "      <th>year</th>\n",
              "    </tr>\n",
              "  </thead>\n",
              "  <tbody>\n",
              "    <tr>\n",
              "      <th>0</th>\n",
              "      <td>8000000</td>\n",
              "      <td>Columbia Pictures Corporation</td>\n",
              "      <td>USA</td>\n",
              "      <td>Rob Reiner</td>\n",
              "      <td>Adventure</td>\n",
              "      <td>52287414</td>\n",
              "      <td>Stand by Me</td>\n",
              "      <td>R</td>\n",
              "      <td>1986-08-22</td>\n",
              "      <td>89</td>\n",
              "      <td>8.1</td>\n",
              "      <td>Wil Wheaton</td>\n",
              "      <td>299174</td>\n",
              "      <td>Stephen King</td>\n",
              "      <td>1986</td>\n",
              "    </tr>\n",
              "    <tr>\n",
              "      <th>1</th>\n",
              "      <td>6000000</td>\n",
              "      <td>Paramount Pictures</td>\n",
              "      <td>USA</td>\n",
              "      <td>John Hughes</td>\n",
              "      <td>Comedy</td>\n",
              "      <td>70136369</td>\n",
              "      <td>Ferris Bueller's Day Off</td>\n",
              "      <td>PG-13</td>\n",
              "      <td>1986-06-11</td>\n",
              "      <td>103</td>\n",
              "      <td>7.8</td>\n",
              "      <td>Matthew Broderick</td>\n",
              "      <td>264740</td>\n",
              "      <td>John Hughes</td>\n",
              "      <td>1986</td>\n",
              "    </tr>\n",
              "    <tr>\n",
              "      <th>2</th>\n",
              "      <td>15000000</td>\n",
              "      <td>Paramount Pictures</td>\n",
              "      <td>USA</td>\n",
              "      <td>Tony Scott</td>\n",
              "      <td>Action</td>\n",
              "      <td>179800601</td>\n",
              "      <td>Top Gun</td>\n",
              "      <td>PG</td>\n",
              "      <td>1986-05-16</td>\n",
              "      <td>110</td>\n",
              "      <td>6.9</td>\n",
              "      <td>Tom Cruise</td>\n",
              "      <td>236909</td>\n",
              "      <td>Jim Cash</td>\n",
              "      <td>1986</td>\n",
              "    </tr>\n",
              "    <tr>\n",
              "      <th>3</th>\n",
              "      <td>18500000</td>\n",
              "      <td>Twentieth Century Fox Film Corporation</td>\n",
              "      <td>USA</td>\n",
              "      <td>James Cameron</td>\n",
              "      <td>Action</td>\n",
              "      <td>85160248</td>\n",
              "      <td>Aliens</td>\n",
              "      <td>R</td>\n",
              "      <td>1986-07-18</td>\n",
              "      <td>137</td>\n",
              "      <td>8.4</td>\n",
              "      <td>Sigourney Weaver</td>\n",
              "      <td>540152</td>\n",
              "      <td>James Cameron</td>\n",
              "      <td>1986</td>\n",
              "    </tr>\n",
              "    <tr>\n",
              "      <th>4</th>\n",
              "      <td>9000000</td>\n",
              "      <td>Walt Disney Pictures</td>\n",
              "      <td>USA</td>\n",
              "      <td>Randal Kleiser</td>\n",
              "      <td>Adventure</td>\n",
              "      <td>18564613</td>\n",
              "      <td>Flight of the Navigator</td>\n",
              "      <td>PG</td>\n",
              "      <td>1986-08-01</td>\n",
              "      <td>90</td>\n",
              "      <td>6.9</td>\n",
              "      <td>Joey Cramer</td>\n",
              "      <td>36636</td>\n",
              "      <td>Mark H. Baker</td>\n",
              "      <td>1986</td>\n",
              "    </tr>\n",
              "    <tr>\n",
              "      <th>...</th>\n",
              "      <td>...</td>\n",
              "      <td>...</td>\n",
              "      <td>...</td>\n",
              "      <td>...</td>\n",
              "      <td>...</td>\n",
              "      <td>...</td>\n",
              "      <td>...</td>\n",
              "      <td>...</td>\n",
              "      <td>...</td>\n",
              "      <td>...</td>\n",
              "      <td>...</td>\n",
              "      <td>...</td>\n",
              "      <td>...</td>\n",
              "      <td>...</td>\n",
              "      <td>...</td>\n",
              "    </tr>\n",
              "    <tr>\n",
              "      <th>6815</th>\n",
              "      <td>0</td>\n",
              "      <td>Fox Searchlight Pictures</td>\n",
              "      <td>UK</td>\n",
              "      <td>Mandie Fletcher</td>\n",
              "      <td>Comedy</td>\n",
              "      <td>4750497</td>\n",
              "      <td>Absolutely Fabulous: The Movie</td>\n",
              "      <td>R</td>\n",
              "      <td>2016-07-22</td>\n",
              "      <td>91</td>\n",
              "      <td>5.4</td>\n",
              "      <td>Jennifer Saunders</td>\n",
              "      <td>9161</td>\n",
              "      <td>Jennifer Saunders</td>\n",
              "      <td>2016</td>\n",
              "    </tr>\n",
              "    <tr>\n",
              "      <th>6816</th>\n",
              "      <td>0</td>\n",
              "      <td>Siempre Viva Productions</td>\n",
              "      <td>USA</td>\n",
              "      <td>Paul Duddridge</td>\n",
              "      <td>Drama</td>\n",
              "      <td>28368</td>\n",
              "      <td>Mothers and Daughters</td>\n",
              "      <td>PG-13</td>\n",
              "      <td>2016-05-06</td>\n",
              "      <td>90</td>\n",
              "      <td>4.9</td>\n",
              "      <td>Selma Blair</td>\n",
              "      <td>1959</td>\n",
              "      <td>Paige Cameron</td>\n",
              "      <td>2016</td>\n",
              "    </tr>\n",
              "    <tr>\n",
              "      <th>6817</th>\n",
              "      <td>3500000</td>\n",
              "      <td>Warner Bros. Animation</td>\n",
              "      <td>USA</td>\n",
              "      <td>Sam Liu</td>\n",
              "      <td>Animation</td>\n",
              "      <td>3775000</td>\n",
              "      <td>Batman: The Killing Joke</td>\n",
              "      <td>R</td>\n",
              "      <td>2016-07-25</td>\n",
              "      <td>76</td>\n",
              "      <td>6.5</td>\n",
              "      <td>Kevin Conroy</td>\n",
              "      <td>36333</td>\n",
              "      <td>Brian Azzarello</td>\n",
              "      <td>2016</td>\n",
              "    </tr>\n",
              "    <tr>\n",
              "      <th>6818</th>\n",
              "      <td>0</td>\n",
              "      <td>Borderline Presents</td>\n",
              "      <td>USA</td>\n",
              "      <td>Nicolas Pesce</td>\n",
              "      <td>Drama</td>\n",
              "      <td>25981</td>\n",
              "      <td>The Eyes of My Mother</td>\n",
              "      <td>R</td>\n",
              "      <td>2016-12-02</td>\n",
              "      <td>76</td>\n",
              "      <td>6.2</td>\n",
              "      <td>Kika Magalh�es</td>\n",
              "      <td>6947</td>\n",
              "      <td>Nicolas Pesce</td>\n",
              "      <td>2016</td>\n",
              "    </tr>\n",
              "    <tr>\n",
              "      <th>6819</th>\n",
              "      <td>0</td>\n",
              "      <td>Les Productions du Tr�sor</td>\n",
              "      <td>France</td>\n",
              "      <td>Nicole Garcia</td>\n",
              "      <td>Drama</td>\n",
              "      <td>37757</td>\n",
              "      <td>From the Land of the Moon</td>\n",
              "      <td>R</td>\n",
              "      <td>2017-07-28</td>\n",
              "      <td>120</td>\n",
              "      <td>6.7</td>\n",
              "      <td>Marion Cotillard</td>\n",
              "      <td>2411</td>\n",
              "      <td>Milena Agus</td>\n",
              "      <td>2016</td>\n",
              "    </tr>\n",
              "  </tbody>\n",
              "</table>\n",
              "<p>6820 rows × 15 columns</p>\n",
              "</div>"
            ],
            "text/plain": [
              "        budget                                 company  ...             writer  year\n",
              "0      8000000           Columbia Pictures Corporation  ...       Stephen King  1986\n",
              "1      6000000                      Paramount Pictures  ...        John Hughes  1986\n",
              "2     15000000                      Paramount Pictures  ...           Jim Cash  1986\n",
              "3     18500000  Twentieth Century Fox Film Corporation  ...      James Cameron  1986\n",
              "4      9000000                    Walt Disney Pictures  ...      Mark H. Baker  1986\n",
              "...        ...                                     ...  ...                ...   ...\n",
              "6815         0                Fox Searchlight Pictures  ...  Jennifer Saunders  2016\n",
              "6816         0                Siempre Viva Productions  ...      Paige Cameron  2016\n",
              "6817   3500000                  Warner Bros. Animation  ...    Brian Azzarello  2016\n",
              "6818         0                     Borderline Presents  ...      Nicolas Pesce  2016\n",
              "6819         0               Les Productions du Tr�sor  ...        Milena Agus  2016\n",
              "\n",
              "[6820 rows x 15 columns]"
            ]
          },
          "metadata": {
            "tags": []
          },
          "execution_count": 8
        }
      ]
    },
    {
      "cell_type": "code",
      "metadata": {
        "id": "Nyn0h0of1VhA",
        "colab": {
          "base_uri": "https://localhost:8080/",
          "height": 1000
        },
        "outputId": "44949f69-8248-4fcd-cd5d-eaa5f378d147"
      },
      "source": [
        "rot_movies"
      ],
      "execution_count": null,
      "outputs": [
        {
          "output_type": "execute_result",
          "data": {
            "text/html": [
              "<div>\n",
              "<style scoped>\n",
              "    .dataframe tbody tr th:only-of-type {\n",
              "        vertical-align: middle;\n",
              "    }\n",
              "\n",
              "    .dataframe tbody tr th {\n",
              "        vertical-align: top;\n",
              "    }\n",
              "\n",
              "    .dataframe thead th {\n",
              "        text-align: right;\n",
              "    }\n",
              "</style>\n",
              "<table border=\"1\" class=\"dataframe\">\n",
              "  <thead>\n",
              "    <tr style=\"text-align: right;\">\n",
              "      <th></th>\n",
              "      <th>movie_link</th>\n",
              "      <th>movie_name</th>\n",
              "      <th>rating</th>\n",
              "      <th>genre</th>\n",
              "      <th>directors</th>\n",
              "      <th>writers</th>\n",
              "      <th>movie_info</th>\n",
              "      <th>poster_image</th>\n",
              "      <th>casts</th>\n",
              "      <th>in_theaters_date</th>\n",
              "      <th>on_streaming_date</th>\n",
              "      <th>runtime_in_minutes</th>\n",
              "      <th>studio_name</th>\n",
              "      <th>box_office</th>\n",
              "      <th>critics_consensus</th>\n",
              "      <th>tomatometer_status</th>\n",
              "      <th>tomatometer_rating</th>\n",
              "      <th>tomatometer_count</th>\n",
              "      <th>audience_status</th>\n",
              "      <th>audience_want_to_see_count</th>\n",
              "      <th>audience_rating</th>\n",
              "      <th>audience_count</th>\n",
              "      <th>audience_top_critics_count</th>\n",
              "      <th>audience_fresh_critics_count</th>\n",
              "      <th>audience_rotten_critics_count</th>\n",
              "      <th>audience_fresh_top_critics_count</th>\n",
              "      <th>audience_rotten_rotten_critics_count</th>\n",
              "      <th>tomatometer_avg_rating</th>\n",
              "      <th>audience_top_critics_avg_rating</th>\n",
              "      <th>score_sentiment</th>\n",
              "      <th>audience_avg_rating</th>\n",
              "    </tr>\n",
              "  </thead>\n",
              "  <tbody>\n",
              "    <tr>\n",
              "      <th>0</th>\n",
              "      <td>/m/312291718</td>\n",
              "      <td>Tillie's Punctured Romance</td>\n",
              "      <td>NR</td>\n",
              "      <td>Classics,Comedy</td>\n",
              "      <td>Charles Bennett,Mack Sennett</td>\n",
              "      <td>Hampton Del Ruth</td>\n",
              "      <td>This Keystone comedy, Charlie Chaplin's 33rd, ...</td>\n",
              "      <td>https://resizing.flixster.com/2cfo_iZmt1DetxOR...</td>\n",
              "      <td>Charles Chaplin,Marie Dressler,Mabel Normand,C...</td>\n",
              "      <td>Jan 1, 1914</td>\n",
              "      <td>Aug 24, 1999</td>\n",
              "      <td>73.0</td>\n",
              "      <td>Keystone Film Company</td>\n",
              "      <td>NaN</td>\n",
              "      <td>NaN</td>\n",
              "      <td>fresh</td>\n",
              "      <td>83.0</td>\n",
              "      <td>6</td>\n",
              "      <td>spilled</td>\n",
              "      <td>119</td>\n",
              "      <td>44.0</td>\n",
              "      <td>972.0</td>\n",
              "      <td>1</td>\n",
              "      <td>5</td>\n",
              "      <td>1</td>\n",
              "      <td>1</td>\n",
              "      <td>0</td>\n",
              "      <td>6.38</td>\n",
              "      <td>0.0</td>\n",
              "      <td>NEGATIVE</td>\n",
              "      <td>3.21</td>\n",
              "    </tr>\n",
              "    <tr>\n",
              "      <th>1</th>\n",
              "      <td>/m/770681144</td>\n",
              "      <td>Tango Tangles</td>\n",
              "      <td>NR</td>\n",
              "      <td>Comedy</td>\n",
              "      <td>Mack Sennett</td>\n",
              "      <td>Mack Sennett</td>\n",
              "      <td>Tango Tangles is an impromptu Keystone comedy ...</td>\n",
              "      <td>https://resizing.flixster.com/AJKmCcDUQqEOdT3n...</td>\n",
              "      <td>Glen Cavender,Charles Chaplin,Edgar Kennedy,Fr...</td>\n",
              "      <td>Mar 9, 1914</td>\n",
              "      <td>NaN</td>\n",
              "      <td>12.0</td>\n",
              "      <td>Keystone Film Company</td>\n",
              "      <td>NaN</td>\n",
              "      <td>NaN</td>\n",
              "      <td>NaN</td>\n",
              "      <td>25.0</td>\n",
              "      <td>0</td>\n",
              "      <td>spilled</td>\n",
              "      <td>35</td>\n",
              "      <td>25.0</td>\n",
              "      <td>183.0</td>\n",
              "      <td>0</td>\n",
              "      <td>0</td>\n",
              "      <td>0</td>\n",
              "      <td>0</td>\n",
              "      <td>0</td>\n",
              "      <td>0.00</td>\n",
              "      <td>0.0</td>\n",
              "      <td>NEGATIVE</td>\n",
              "      <td>2.65</td>\n",
              "    </tr>\n",
              "    <tr>\n",
              "      <th>2</th>\n",
              "      <td>/m/20297</td>\n",
              "      <td>Cabiria</td>\n",
              "      <td>NR</td>\n",
              "      <td>Art House &amp; International,Classics,Drama</td>\n",
              "      <td>Giovanni Pastrone</td>\n",
              "      <td>Gabriele D'Annunzio</td>\n",
              "      <td>The ancient conflict between Rome and Carthage...</td>\n",
              "      <td>https://resizing.flixster.com/NA4TdKSRbmLNhJKw...</td>\n",
              "      <td>Alex Bernard,Italia Almirante-Manzini,Lidia Qu...</td>\n",
              "      <td>Jun 1, 1914</td>\n",
              "      <td>Nov 7, 2000</td>\n",
              "      <td>181.0</td>\n",
              "      <td>Itala Film</td>\n",
              "      <td>NaN</td>\n",
              "      <td>NaN</td>\n",
              "      <td>fresh</td>\n",
              "      <td>89.0</td>\n",
              "      <td>9</td>\n",
              "      <td>upright</td>\n",
              "      <td>176</td>\n",
              "      <td>69.0</td>\n",
              "      <td>1153.0</td>\n",
              "      <td>4</td>\n",
              "      <td>8</td>\n",
              "      <td>1</td>\n",
              "      <td>4</td>\n",
              "      <td>0</td>\n",
              "      <td>7.75</td>\n",
              "      <td>10.0</td>\n",
              "      <td>POSITIVE</td>\n",
              "      <td>3.70</td>\n",
              "    </tr>\n",
              "    <tr>\n",
              "      <th>3</th>\n",
              "      <td>/m/770680394</td>\n",
              "      <td>The Magic Cloak of Oz</td>\n",
              "      <td>NR</td>\n",
              "      <td>Action &amp; Adventure,Drama,Kids &amp; Family,Science...</td>\n",
              "      <td>J. Farrell MacDonald</td>\n",
              "      <td>L. Frank Baum</td>\n",
              "      <td>Author L. Frank Baum adapts his own original s...</td>\n",
              "      <td>https://resizing.flixster.com/qgZlce0CF5nUrmUX...</td>\n",
              "      <td>Violet MacMillan,Vivian Reed,Mildred Harris,Fr...</td>\n",
              "      <td>Sep 28, 1914</td>\n",
              "      <td>May 22, 2001</td>\n",
              "      <td>45.0</td>\n",
              "      <td>NaN</td>\n",
              "      <td>NaN</td>\n",
              "      <td>NaN</td>\n",
              "      <td>NaN</td>\n",
              "      <td>NaN</td>\n",
              "      <td>0</td>\n",
              "      <td>spilled</td>\n",
              "      <td>0</td>\n",
              "      <td>NaN</td>\n",
              "      <td>NaN</td>\n",
              "      <td>0</td>\n",
              "      <td>0</td>\n",
              "      <td>0</td>\n",
              "      <td>0</td>\n",
              "      <td>0</td>\n",
              "      <td>0.00</td>\n",
              "      <td>0.0</td>\n",
              "      <td>NaN</td>\n",
              "      <td>NaN</td>\n",
              "    </tr>\n",
              "    <tr>\n",
              "      <th>4</th>\n",
              "      <td>/m/21368</td>\n",
              "      <td>Regeneration</td>\n",
              "      <td>NR</td>\n",
              "      <td>Classics,Drama</td>\n",
              "      <td>Raoul Walsh</td>\n",
              "      <td>Raoul Walsh,Carl Harbaugh</td>\n",
              "      <td>Noteworthy as the first ever feature-length cr...</td>\n",
              "      <td>https://resizing.flixster.com/1aKm46hSGRdsc_Fs...</td>\n",
              "      <td>Rockliffe Fellowes,Anna Q. Nilsson,William She...</td>\n",
              "      <td>Sep 13, 1915</td>\n",
              "      <td>Nov 27, 2001</td>\n",
              "      <td>61.0</td>\n",
              "      <td>Fox Film Corporation</td>\n",
              "      <td>NaN</td>\n",
              "      <td>NaN</td>\n",
              "      <td>fresh</td>\n",
              "      <td>100.0</td>\n",
              "      <td>5</td>\n",
              "      <td>upright</td>\n",
              "      <td>54</td>\n",
              "      <td>65.0</td>\n",
              "      <td>401.0</td>\n",
              "      <td>2</td>\n",
              "      <td>5</td>\n",
              "      <td>0</td>\n",
              "      <td>2</td>\n",
              "      <td>0</td>\n",
              "      <td>9.17</td>\n",
              "      <td>0.0</td>\n",
              "      <td>POSITIVE</td>\n",
              "      <td>3.50</td>\n",
              "    </tr>\n",
              "    <tr>\n",
              "      <th>...</th>\n",
              "      <td>...</td>\n",
              "      <td>...</td>\n",
              "      <td>...</td>\n",
              "      <td>...</td>\n",
              "      <td>...</td>\n",
              "      <td>...</td>\n",
              "      <td>...</td>\n",
              "      <td>...</td>\n",
              "      <td>...</td>\n",
              "      <td>...</td>\n",
              "      <td>...</td>\n",
              "      <td>...</td>\n",
              "      <td>...</td>\n",
              "      <td>...</td>\n",
              "      <td>...</td>\n",
              "      <td>...</td>\n",
              "      <td>...</td>\n",
              "      <td>...</td>\n",
              "      <td>...</td>\n",
              "      <td>...</td>\n",
              "      <td>...</td>\n",
              "      <td>...</td>\n",
              "      <td>...</td>\n",
              "      <td>...</td>\n",
              "      <td>...</td>\n",
              "      <td>...</td>\n",
              "      <td>...</td>\n",
              "      <td>...</td>\n",
              "      <td>...</td>\n",
              "      <td>...</td>\n",
              "      <td>...</td>\n",
              "    </tr>\n",
              "    <tr>\n",
              "      <th>12996</th>\n",
              "      <td>/m/572463126</td>\n",
              "      <td>Spooky Encounters (Gui da gui)</td>\n",
              "      <td>R</td>\n",
              "      <td>Action &amp; Adventure,Art House &amp; International,C...</td>\n",
              "      <td>Sammo Hung Kam-Bo</td>\n",
              "      <td>Sammo Hung Kam-Bo</td>\n",
              "      <td>Courageous Cheung (Sammo Hung) has a reputatio...</td>\n",
              "      <td>https://resizing.flixster.com/EBhOA9UEYYD02yhf...</td>\n",
              "      <td>Sammo Hung Kam-Bo,Ching-Ying Lam,Chan Lung,Fat...</td>\n",
              "      <td>NaN</td>\n",
              "      <td>Nov 14, 2000</td>\n",
              "      <td>100.0</td>\n",
              "      <td>Tai Seng</td>\n",
              "      <td>NaN</td>\n",
              "      <td>NaN</td>\n",
              "      <td>NaN</td>\n",
              "      <td>82.0</td>\n",
              "      <td>2</td>\n",
              "      <td>upright</td>\n",
              "      <td>123</td>\n",
              "      <td>82.0</td>\n",
              "      <td>1276.0</td>\n",
              "      <td>0</td>\n",
              "      <td>1</td>\n",
              "      <td>1</td>\n",
              "      <td>0</td>\n",
              "      <td>0</td>\n",
              "      <td>7.00</td>\n",
              "      <td>0.0</td>\n",
              "      <td>POSITIVE</td>\n",
              "      <td>4.03</td>\n",
              "    </tr>\n",
              "    <tr>\n",
              "      <th>12997</th>\n",
              "      <td>/m/770916867</td>\n",
              "      <td>Lady Luck</td>\n",
              "      <td>NR</td>\n",
              "      <td>Comedy,Drama</td>\n",
              "      <td>Charles Lamont</td>\n",
              "      <td>John Krafft</td>\n",
              "      <td>In this drama, a manicurist is mistaken for th...</td>\n",
              "      <td>https://resizing.flixster.com/b7Krc1GRxbH3b0-Q...</td>\n",
              "      <td>Patricia Farr,William Bakewell,Duncan Renaldo,...</td>\n",
              "      <td>NaN</td>\n",
              "      <td>Oct 28, 2008</td>\n",
              "      <td>62.0</td>\n",
              "      <td>Chesterfield Pictures Corporation</td>\n",
              "      <td>NaN</td>\n",
              "      <td>NaN</td>\n",
              "      <td>NaN</td>\n",
              "      <td>NaN</td>\n",
              "      <td>0</td>\n",
              "      <td>NaN</td>\n",
              "      <td>1</td>\n",
              "      <td>NaN</td>\n",
              "      <td>NaN</td>\n",
              "      <td>0</td>\n",
              "      <td>0</td>\n",
              "      <td>0</td>\n",
              "      <td>0</td>\n",
              "      <td>0</td>\n",
              "      <td>0.00</td>\n",
              "      <td>0.0</td>\n",
              "      <td>NaN</td>\n",
              "      <td>NaN</td>\n",
              "    </tr>\n",
              "    <tr>\n",
              "      <th>12998</th>\n",
              "      <td>/m/770876889</td>\n",
              "      <td>The Baltimore Bullet</td>\n",
              "      <td>PG</td>\n",
              "      <td>Action &amp; Adventure,Comedy</td>\n",
              "      <td>Robert Ellis Miller</td>\n",
              "      <td>John F. Brascia,Robert Vincent O'Neil</td>\n",
              "      <td>James Coburn is \"The Baltimore Bullet\", a lege...</td>\n",
              "      <td>https://resizing.flixster.com/3aBh9qvL9P8VwKF_...</td>\n",
              "      <td>James Coburn,Omar Sharif,Bruce Boxleitner,Rone...</td>\n",
              "      <td>NaN</td>\n",
              "      <td>NaN</td>\n",
              "      <td>103.0</td>\n",
              "      <td>AVCO Embassy Pictures</td>\n",
              "      <td>NaN</td>\n",
              "      <td>NaN</td>\n",
              "      <td>NaN</td>\n",
              "      <td>50.0</td>\n",
              "      <td>0</td>\n",
              "      <td>spilled</td>\n",
              "      <td>15</td>\n",
              "      <td>50.0</td>\n",
              "      <td>27.0</td>\n",
              "      <td>0</td>\n",
              "      <td>0</td>\n",
              "      <td>0</td>\n",
              "      <td>0</td>\n",
              "      <td>0</td>\n",
              "      <td>0.00</td>\n",
              "      <td>0.0</td>\n",
              "      <td>NEGATIVE</td>\n",
              "      <td>3.38</td>\n",
              "    </tr>\n",
              "    <tr>\n",
              "      <th>12999</th>\n",
              "      <td>/m/15618</td>\n",
              "      <td>Loose Shoes</td>\n",
              "      <td>R</td>\n",
              "      <td>Comedy</td>\n",
              "      <td>Ira Miller</td>\n",
              "      <td>Ira Miller,Royce D. Applegate</td>\n",
              "      <td>Movie trailers are the target of this satiric ...</td>\n",
              "      <td>https://resizing.flixster.com/CAN2IeQ_99yw20pL...</td>\n",
              "      <td>Lewis Arquette,Danny Dayton,Murphy Dunne,Howar...</td>\n",
              "      <td>NaN</td>\n",
              "      <td>Feb 24, 2004</td>\n",
              "      <td>74.0</td>\n",
              "      <td>Atlantic Releasing Corporation</td>\n",
              "      <td>NaN</td>\n",
              "      <td>NaN</td>\n",
              "      <td>NaN</td>\n",
              "      <td>17.0</td>\n",
              "      <td>0</td>\n",
              "      <td>spilled</td>\n",
              "      <td>95</td>\n",
              "      <td>17.0</td>\n",
              "      <td>540.0</td>\n",
              "      <td>0</td>\n",
              "      <td>0</td>\n",
              "      <td>0</td>\n",
              "      <td>0</td>\n",
              "      <td>0</td>\n",
              "      <td>0.00</td>\n",
              "      <td>0.0</td>\n",
              "      <td>NEGATIVE</td>\n",
              "      <td>2.33</td>\n",
              "    </tr>\n",
              "    <tr>\n",
              "      <th>13000</th>\n",
              "      <td>/m/771036550</td>\n",
              "      <td>Bara en mor (Only a Mother)</td>\n",
              "      <td>NR</td>\n",
              "      <td>Art House &amp; International,Drama</td>\n",
              "      <td>Alf Sjöberg</td>\n",
              "      <td>NaN</td>\n",
              "      <td>NaN</td>\n",
              "      <td>https://www.rottentomatoes.com/assets/pizza-pi...</td>\n",
              "      <td>NaN</td>\n",
              "      <td>NaN</td>\n",
              "      <td>NaN</td>\n",
              "      <td>99.0</td>\n",
              "      <td>NaN</td>\n",
              "      <td>NaN</td>\n",
              "      <td>NaN</td>\n",
              "      <td>NaN</td>\n",
              "      <td>NaN</td>\n",
              "      <td>0</td>\n",
              "      <td>NaN</td>\n",
              "      <td>0</td>\n",
              "      <td>NaN</td>\n",
              "      <td>NaN</td>\n",
              "      <td>0</td>\n",
              "      <td>0</td>\n",
              "      <td>0</td>\n",
              "      <td>0</td>\n",
              "      <td>0</td>\n",
              "      <td>0.00</td>\n",
              "      <td>0.0</td>\n",
              "      <td>NaN</td>\n",
              "      <td>NaN</td>\n",
              "    </tr>\n",
              "  </tbody>\n",
              "</table>\n",
              "<p>13001 rows × 31 columns</p>\n",
              "</div>"
            ],
            "text/plain": [
              "         movie_link  ... audience_avg_rating\n",
              "0      /m/312291718  ...                3.21\n",
              "1      /m/770681144  ...                2.65\n",
              "2          /m/20297  ...                3.70\n",
              "3      /m/770680394  ...                 NaN\n",
              "4          /m/21368  ...                3.50\n",
              "...             ...  ...                 ...\n",
              "12996  /m/572463126  ...                4.03\n",
              "12997  /m/770916867  ...                 NaN\n",
              "12998  /m/770876889  ...                3.38\n",
              "12999      /m/15618  ...                2.33\n",
              "13000  /m/771036550  ...                 NaN\n",
              "\n",
              "[13001 rows x 31 columns]"
            ]
          },
          "metadata": {
            "tags": []
          },
          "execution_count": 7
        }
      ]
    },
    {
      "cell_type": "markdown",
      "metadata": {
        "id": "uLgF5ZvS2uLq"
      },
      "source": [
        "1. Looking at the raw data"
      ]
    },
    {
      "cell_type": "markdown",
      "metadata": {
        "id": "eBSA8vX52sfx"
      },
      "source": [
        "2. EDA and Data Cleaning - movies"
      ]
    },
    {
      "cell_type": "code",
      "metadata": {
        "id": "BTMsoqn-zC_I",
        "colab": {
          "base_uri": "https://localhost:8080/",
          "height": 419
        },
        "outputId": "8ac69a0e-d628-4c81-f05c-f04f7c8cb6e2"
      },
      "source": [
        "counts = movies['name'].value_counts().to_frame()\n",
        "counts[counts['name'] > 1]"
      ],
      "execution_count": null,
      "outputs": [
        {
          "output_type": "execute_result",
          "data": {
            "text/html": [
              "<div>\n",
              "<style scoped>\n",
              "    .dataframe tbody tr th:only-of-type {\n",
              "        vertical-align: middle;\n",
              "    }\n",
              "\n",
              "    .dataframe tbody tr th {\n",
              "        vertical-align: top;\n",
              "    }\n",
              "\n",
              "    .dataframe thead th {\n",
              "        text-align: right;\n",
              "    }\n",
              "</style>\n",
              "<table border=\"1\" class=\"dataframe\">\n",
              "  <thead>\n",
              "    <tr style=\"text-align: right;\">\n",
              "      <th></th>\n",
              "      <th>name</th>\n",
              "    </tr>\n",
              "  </thead>\n",
              "  <tbody>\n",
              "    <tr>\n",
              "      <th>Hamlet</th>\n",
              "      <td>3</td>\n",
              "    </tr>\n",
              "    <tr>\n",
              "      <th>Pulse</th>\n",
              "      <td>3</td>\n",
              "    </tr>\n",
              "    <tr>\n",
              "      <th>Mother</th>\n",
              "      <td>2</td>\n",
              "    </tr>\n",
              "    <tr>\n",
              "      <th>No Escape</th>\n",
              "      <td>2</td>\n",
              "    </tr>\n",
              "    <tr>\n",
              "      <th>Gladiator</th>\n",
              "      <td>2</td>\n",
              "    </tr>\n",
              "    <tr>\n",
              "      <th>...</th>\n",
              "      <td>...</td>\n",
              "    </tr>\n",
              "    <tr>\n",
              "      <th>Out Cold</th>\n",
              "      <td>2</td>\n",
              "    </tr>\n",
              "    <tr>\n",
              "      <th>Dream Lover</th>\n",
              "      <td>2</td>\n",
              "    </tr>\n",
              "    <tr>\n",
              "      <th>Max</th>\n",
              "      <td>2</td>\n",
              "    </tr>\n",
              "    <tr>\n",
              "      <th>The Phantom of the Opera</th>\n",
              "      <td>2</td>\n",
              "    </tr>\n",
              "    <tr>\n",
              "      <th>Death at a Funeral</th>\n",
              "      <td>2</td>\n",
              "    </tr>\n",
              "  </tbody>\n",
              "</table>\n",
              "<p>87 rows × 1 columns</p>\n",
              "</div>"
            ],
            "text/plain": [
              "                          name\n",
              "Hamlet                       3\n",
              "Pulse                        3\n",
              "Mother                       2\n",
              "No Escape                    2\n",
              "Gladiator                    2\n",
              "...                        ...\n",
              "Out Cold                     2\n",
              "Dream Lover                  2\n",
              "Max                          2\n",
              "The Phantom of the Opera     2\n",
              "Death at a Funeral           2\n",
              "\n",
              "[87 rows x 1 columns]"
            ]
          },
          "metadata": {
            "tags": []
          },
          "execution_count": 5
        }
      ]
    },
    {
      "cell_type": "code",
      "metadata": {
        "id": "mSb_E14Bwdzh",
        "colab": {
          "base_uri": "https://localhost:8080/",
          "height": 297
        },
        "outputId": "5d25da60-5d7c-4932-c6b5-74e6c9613bb5"
      },
      "source": [
        "movies.describe()"
      ],
      "execution_count": null,
      "outputs": [
        {
          "output_type": "execute_result",
          "data": {
            "text/html": [
              "<div>\n",
              "<style scoped>\n",
              "    .dataframe tbody tr th:only-of-type {\n",
              "        vertical-align: middle;\n",
              "    }\n",
              "\n",
              "    .dataframe tbody tr th {\n",
              "        vertical-align: top;\n",
              "    }\n",
              "\n",
              "    .dataframe thead th {\n",
              "        text-align: right;\n",
              "    }\n",
              "</style>\n",
              "<table border=\"1\" class=\"dataframe\">\n",
              "  <thead>\n",
              "    <tr style=\"text-align: right;\">\n",
              "      <th></th>\n",
              "      <th>budget</th>\n",
              "      <th>gross</th>\n",
              "      <th>runtime</th>\n",
              "      <th>score</th>\n",
              "      <th>votes</th>\n",
              "      <th>year</th>\n",
              "    </tr>\n",
              "  </thead>\n",
              "  <tbody>\n",
              "    <tr>\n",
              "      <th>count</th>\n",
              "      <td>6.820000e+03</td>\n",
              "      <td>6.820000e+03</td>\n",
              "      <td>6820.00000</td>\n",
              "      <td>6820.000000</td>\n",
              "      <td>6.820000e+03</td>\n",
              "      <td>6820.000000</td>\n",
              "    </tr>\n",
              "    <tr>\n",
              "      <th>mean</th>\n",
              "      <td>2.458113e+07</td>\n",
              "      <td>3.349783e+07</td>\n",
              "      <td>106.55132</td>\n",
              "      <td>6.374897</td>\n",
              "      <td>7.121952e+04</td>\n",
              "      <td>2001.000293</td>\n",
              "    </tr>\n",
              "    <tr>\n",
              "      <th>std</th>\n",
              "      <td>3.702254e+07</td>\n",
              "      <td>5.819760e+07</td>\n",
              "      <td>18.02818</td>\n",
              "      <td>1.003142</td>\n",
              "      <td>1.305176e+05</td>\n",
              "      <td>8.944501</td>\n",
              "    </tr>\n",
              "    <tr>\n",
              "      <th>min</th>\n",
              "      <td>0.000000e+00</td>\n",
              "      <td>7.000000e+01</td>\n",
              "      <td>50.00000</td>\n",
              "      <td>1.500000</td>\n",
              "      <td>2.700000e+01</td>\n",
              "      <td>1986.000000</td>\n",
              "    </tr>\n",
              "    <tr>\n",
              "      <th>25%</th>\n",
              "      <td>0.000000e+00</td>\n",
              "      <td>1.515839e+06</td>\n",
              "      <td>95.00000</td>\n",
              "      <td>5.800000</td>\n",
              "      <td>7.665250e+03</td>\n",
              "      <td>1993.000000</td>\n",
              "    </tr>\n",
              "    <tr>\n",
              "      <th>50%</th>\n",
              "      <td>1.100000e+07</td>\n",
              "      <td>1.213568e+07</td>\n",
              "      <td>102.00000</td>\n",
              "      <td>6.400000</td>\n",
              "      <td>2.589250e+04</td>\n",
              "      <td>2001.000000</td>\n",
              "    </tr>\n",
              "    <tr>\n",
              "      <th>75%</th>\n",
              "      <td>3.200000e+07</td>\n",
              "      <td>4.006534e+07</td>\n",
              "      <td>115.00000</td>\n",
              "      <td>7.100000</td>\n",
              "      <td>7.581225e+04</td>\n",
              "      <td>2009.000000</td>\n",
              "    </tr>\n",
              "    <tr>\n",
              "      <th>max</th>\n",
              "      <td>3.000000e+08</td>\n",
              "      <td>9.366622e+08</td>\n",
              "      <td>366.00000</td>\n",
              "      <td>9.300000</td>\n",
              "      <td>1.861666e+06</td>\n",
              "      <td>2016.000000</td>\n",
              "    </tr>\n",
              "  </tbody>\n",
              "</table>\n",
              "</div>"
            ],
            "text/plain": [
              "             budget         gross  ...         votes         year\n",
              "count  6.820000e+03  6.820000e+03  ...  6.820000e+03  6820.000000\n",
              "mean   2.458113e+07  3.349783e+07  ...  7.121952e+04  2001.000293\n",
              "std    3.702254e+07  5.819760e+07  ...  1.305176e+05     8.944501\n",
              "min    0.000000e+00  7.000000e+01  ...  2.700000e+01  1986.000000\n",
              "25%    0.000000e+00  1.515839e+06  ...  7.665250e+03  1993.000000\n",
              "50%    1.100000e+07  1.213568e+07  ...  2.589250e+04  2001.000000\n",
              "75%    3.200000e+07  4.006534e+07  ...  7.581225e+04  2009.000000\n",
              "max    3.000000e+08  9.366622e+08  ...  1.861666e+06  2016.000000\n",
              "\n",
              "[8 rows x 6 columns]"
            ]
          },
          "metadata": {
            "tags": []
          },
          "execution_count": 6
        }
      ]
    },
    {
      "cell_type": "code",
      "metadata": {
        "id": "P5YdLFDD-QNz",
        "colab": {
          "base_uri": "https://localhost:8080/",
          "height": 289
        },
        "outputId": "aafb2066-4b72-43d6-c7bd-eb0cae7f5c4d"
      },
      "source": [
        "movies.head()"
      ],
      "execution_count": null,
      "outputs": [
        {
          "output_type": "execute_result",
          "data": {
            "text/html": [
              "<div>\n",
              "<style scoped>\n",
              "    .dataframe tbody tr th:only-of-type {\n",
              "        vertical-align: middle;\n",
              "    }\n",
              "\n",
              "    .dataframe tbody tr th {\n",
              "        vertical-align: top;\n",
              "    }\n",
              "\n",
              "    .dataframe thead th {\n",
              "        text-align: right;\n",
              "    }\n",
              "</style>\n",
              "<table border=\"1\" class=\"dataframe\">\n",
              "  <thead>\n",
              "    <tr style=\"text-align: right;\">\n",
              "      <th></th>\n",
              "      <th>budget</th>\n",
              "      <th>company</th>\n",
              "      <th>country</th>\n",
              "      <th>director</th>\n",
              "      <th>genre</th>\n",
              "      <th>gross</th>\n",
              "      <th>name</th>\n",
              "      <th>rating</th>\n",
              "      <th>released</th>\n",
              "      <th>runtime</th>\n",
              "      <th>score</th>\n",
              "      <th>star</th>\n",
              "      <th>votes</th>\n",
              "      <th>writer</th>\n",
              "      <th>year</th>\n",
              "    </tr>\n",
              "  </thead>\n",
              "  <tbody>\n",
              "    <tr>\n",
              "      <th>0</th>\n",
              "      <td>8000000</td>\n",
              "      <td>Columbia Pictures Corporation</td>\n",
              "      <td>USA</td>\n",
              "      <td>Rob Reiner</td>\n",
              "      <td>Adventure</td>\n",
              "      <td>52287414</td>\n",
              "      <td>Stand by Me</td>\n",
              "      <td>R</td>\n",
              "      <td>1986-08-22</td>\n",
              "      <td>89</td>\n",
              "      <td>8.1</td>\n",
              "      <td>Wil Wheaton</td>\n",
              "      <td>299174</td>\n",
              "      <td>Stephen King</td>\n",
              "      <td>1986</td>\n",
              "    </tr>\n",
              "    <tr>\n",
              "      <th>1</th>\n",
              "      <td>6000000</td>\n",
              "      <td>Paramount Pictures</td>\n",
              "      <td>USA</td>\n",
              "      <td>John Hughes</td>\n",
              "      <td>Comedy</td>\n",
              "      <td>70136369</td>\n",
              "      <td>Ferris Bueller's Day Off</td>\n",
              "      <td>PG-13</td>\n",
              "      <td>1986-06-11</td>\n",
              "      <td>103</td>\n",
              "      <td>7.8</td>\n",
              "      <td>Matthew Broderick</td>\n",
              "      <td>264740</td>\n",
              "      <td>John Hughes</td>\n",
              "      <td>1986</td>\n",
              "    </tr>\n",
              "    <tr>\n",
              "      <th>2</th>\n",
              "      <td>15000000</td>\n",
              "      <td>Paramount Pictures</td>\n",
              "      <td>USA</td>\n",
              "      <td>Tony Scott</td>\n",
              "      <td>Action</td>\n",
              "      <td>179800601</td>\n",
              "      <td>Top Gun</td>\n",
              "      <td>PG</td>\n",
              "      <td>1986-05-16</td>\n",
              "      <td>110</td>\n",
              "      <td>6.9</td>\n",
              "      <td>Tom Cruise</td>\n",
              "      <td>236909</td>\n",
              "      <td>Jim Cash</td>\n",
              "      <td>1986</td>\n",
              "    </tr>\n",
              "    <tr>\n",
              "      <th>3</th>\n",
              "      <td>18500000</td>\n",
              "      <td>Twentieth Century Fox Film Corporation</td>\n",
              "      <td>USA</td>\n",
              "      <td>James Cameron</td>\n",
              "      <td>Action</td>\n",
              "      <td>85160248</td>\n",
              "      <td>Aliens</td>\n",
              "      <td>R</td>\n",
              "      <td>1986-07-18</td>\n",
              "      <td>137</td>\n",
              "      <td>8.4</td>\n",
              "      <td>Sigourney Weaver</td>\n",
              "      <td>540152</td>\n",
              "      <td>James Cameron</td>\n",
              "      <td>1986</td>\n",
              "    </tr>\n",
              "    <tr>\n",
              "      <th>4</th>\n",
              "      <td>9000000</td>\n",
              "      <td>Walt Disney Pictures</td>\n",
              "      <td>USA</td>\n",
              "      <td>Randal Kleiser</td>\n",
              "      <td>Adventure</td>\n",
              "      <td>18564613</td>\n",
              "      <td>Flight of the Navigator</td>\n",
              "      <td>PG</td>\n",
              "      <td>1986-08-01</td>\n",
              "      <td>90</td>\n",
              "      <td>6.9</td>\n",
              "      <td>Joey Cramer</td>\n",
              "      <td>36636</td>\n",
              "      <td>Mark H. Baker</td>\n",
              "      <td>1986</td>\n",
              "    </tr>\n",
              "  </tbody>\n",
              "</table>\n",
              "</div>"
            ],
            "text/plain": [
              "     budget                                 company  ...         writer  year\n",
              "0   8000000           Columbia Pictures Corporation  ...   Stephen King  1986\n",
              "1   6000000                      Paramount Pictures  ...    John Hughes  1986\n",
              "2  15000000                      Paramount Pictures  ...       Jim Cash  1986\n",
              "3  18500000  Twentieth Century Fox Film Corporation  ...  James Cameron  1986\n",
              "4   9000000                    Walt Disney Pictures  ...  Mark H. Baker  1986\n",
              "\n",
              "[5 rows x 15 columns]"
            ]
          },
          "metadata": {
            "tags": []
          },
          "execution_count": 7
        }
      ]
    },
    {
      "cell_type": "code",
      "metadata": {
        "id": "Z0QIXBeTwgeq",
        "colab": {
          "base_uri": "https://localhost:8080/"
        },
        "outputId": "1b02d4b0-b90a-4807-8da9-0e522391cfc3"
      },
      "source": [
        "movies['country'].value_counts()"
      ],
      "execution_count": null,
      "outputs": [
        {
          "output_type": "execute_result",
          "data": {
            "text/plain": [
              "USA                               4872\n",
              "UK                                 698\n",
              "France                             283\n",
              "Canada                             150\n",
              "Germany                            134\n",
              "Australia                           82\n",
              "Japan                               68\n",
              "Spain                               56\n",
              "Italy                               51\n",
              "Ireland                             44\n",
              "Hong Kong                           39\n",
              "India                               39\n",
              "Denmark                             33\n",
              "China                               24\n",
              "South Korea                         20\n",
              "New Zealand                         18\n",
              "Sweden                              18\n",
              "Belgium                             18\n",
              "Mexico                              15\n",
              "Argentina                           13\n",
              "Netherlands                         12\n",
              "Iran                                12\n",
              "Russia                              10\n",
              "South Africa                         9\n",
              "Taiwan                               8\n",
              "Czech Republic                       8\n",
              "Norway                               8\n",
              "Hungary                              7\n",
              "Austria                              6\n",
              "Brazil                               6\n",
              "Switzerland                          6\n",
              "Israel                               5\n",
              "Romania                              5\n",
              "Greece                               5\n",
              "West Germany                         4\n",
              "Chile                                4\n",
              "Thailand                             3\n",
              "Finland                              3\n",
              "Indonesia                            2\n",
              "Poland                               2\n",
              "Colombia                             2\n",
              "Portugal                             2\n",
              "Peru                                 2\n",
              "Federal Republic of Yugoslavia       1\n",
              "Saudi Arabia                         1\n",
              "Malta                                1\n",
              "Bahamas                              1\n",
              "Iceland                              1\n",
              "Republic of Macedonia                1\n",
              "Cuba                                 1\n",
              "Kenya                                1\n",
              "Jamaica                              1\n",
              "Aruba                                1\n",
              "Panama                               1\n",
              "Ukraine                              1\n",
              "Palestine                            1\n",
              "Soviet Union                         1\n",
              "Name: country, dtype: int64"
            ]
          },
          "metadata": {
            "tags": []
          },
          "execution_count": 8
        }
      ]
    },
    {
      "cell_type": "code",
      "metadata": {
        "id": "LqbHftxx0WBB",
        "colab": {
          "base_uri": "https://localhost:8080/"
        },
        "outputId": "0b242938-67f4-4c85-d298-9ebba5ea35bf"
      },
      "source": [
        "movies['genre'].value_counts()"
      ],
      "execution_count": null,
      "outputs": [
        {
          "output_type": "execute_result",
          "data": {
            "text/plain": [
              "Comedy       2080\n",
              "Drama        1444\n",
              "Action       1331\n",
              "Crime         522\n",
              "Adventure     392\n",
              "Biography     359\n",
              "Horror        277\n",
              "Animation     277\n",
              "Mystery        38\n",
              "Fantasy        32\n",
              "Thriller       18\n",
              "Romance        15\n",
              "Family         14\n",
              "Sci-Fi         13\n",
              "Musical         4\n",
              "Western         2\n",
              "War             2\n",
              "Name: genre, dtype: int64"
            ]
          },
          "metadata": {
            "tags": []
          },
          "execution_count": 9
        }
      ]
    },
    {
      "cell_type": "code",
      "metadata": {
        "id": "qjSihBTQwqJd",
        "colab": {
          "base_uri": "https://localhost:8080/"
        },
        "outputId": "606a0a80-51f2-4c35-ab2f-26723cdbea8b"
      },
      "source": [
        "movies['rating'].value_counts()"
      ],
      "execution_count": null,
      "outputs": [
        {
          "output_type": "execute_result",
          "data": {
            "text/plain": [
              "R                3392\n",
              "PG-13            1995\n",
              "PG                951\n",
              "NOT RATED         174\n",
              "G                 147\n",
              "UNRATED            71\n",
              "Not specified      63\n",
              "NC-17              22\n",
              "B                   1\n",
              "TV-14               1\n",
              "TV-MA               1\n",
              "B15                 1\n",
              "TV-PG               1\n",
              "Name: rating, dtype: int64"
            ]
          },
          "metadata": {
            "tags": []
          },
          "execution_count": 10
        }
      ]
    },
    {
      "cell_type": "code",
      "metadata": {
        "id": "Qq3T4AgXwyEO"
      },
      "source": [
        "movies.loc[movies['rating'] == 'NOT RATED','rating'] = 'UNRATED'\n",
        "movies.loc[movies['rating'] == 'Not specified','rating'] = 'UNRATED'"
      ],
      "execution_count": null,
      "outputs": []
    },
    {
      "cell_type": "code",
      "metadata": {
        "id": "v-fp_zeJw0QI",
        "colab": {
          "base_uri": "https://localhost:8080/"
        },
        "outputId": "06f94327-81bc-4c57-9e27-891e59f40976"
      },
      "source": [
        "movies['rating'].value_counts()"
      ],
      "execution_count": null,
      "outputs": [
        {
          "output_type": "execute_result",
          "data": {
            "text/plain": [
              "R          3392\n",
              "PG-13      1995\n",
              "PG          951\n",
              "UNRATED     308\n",
              "G           147\n",
              "NC-17        22\n",
              "B             1\n",
              "TV-14         1\n",
              "TV-MA         1\n",
              "B15           1\n",
              "TV-PG         1\n",
              "Name: rating, dtype: int64"
            ]
          },
          "metadata": {
            "tags": []
          },
          "execution_count": 12
        }
      ]
    },
    {
      "cell_type": "code",
      "metadata": {
        "id": "N5R3S_03w0m5",
        "colab": {
          "base_uri": "https://localhost:8080/",
          "height": 297
        },
        "outputId": "6d9f1120-7ab0-406c-b77e-8a619ec3d263"
      },
      "source": [
        "ax = sn.barplot(x = movies['rating'].value_counts().index, y = movies['rating'].value_counts())\n",
        "ax.set(xlabel=\"rating category\", ylabel = \"amount of movies\")"
      ],
      "execution_count": null,
      "outputs": [
        {
          "output_type": "execute_result",
          "data": {
            "text/plain": [
              "[Text(0, 0.5, 'amount of movies'), Text(0.5, 0, 'rating category')]"
            ]
          },
          "metadata": {
            "tags": []
          },
          "execution_count": 13
        },
        {
          "output_type": "display_data",
          "data": {
            "image/png": "[encoded data removed]",
            "text/plain": [
              "<Figure size 432x288 with 1 Axes>"
            ]
          },
          "metadata": {
            "tags": [],
            "needs_background": "light"
          }
        }
      ]
    },
    {
      "cell_type": "code",
      "metadata": {
        "id": "R0eLw3k4w5Ar",
        "colab": {
          "base_uri": "https://localhost:8080/",
          "height": 604
        },
        "outputId": "e77e1a1f-3905-47f8-c109-f23348c17a1c"
      },
      "source": [
        "company = movies['company'].value_counts()\n",
        "company = pd.DataFrame(company) \n",
        "company = company.head(10) \n",
        "sn.barplot(x = company.index, y = company['company'])\n",
        "\n",
        "labels = company.index.tolist()\n",
        "plt.gcf().set_size_inches(15, 7)\n",
        "\n",
        "plt.title('Company vs. Movies released', fontsize = 20)\n",
        "plt.xlabel('Company', fontsize = 15)\n",
        "plt.ylabel('Released movies', fontsize = 15)\n",
        "plt.xticks(ticks = [0,1,2,3,4,5,6,7,8,9] , labels = labels, rotation = '45')\n",
        "plt.show()"
      ],
      "execution_count": null,
      "outputs": [
        {
          "output_type": "display_data",
          "data": {
            "image/png": "[encoded data removed]",
            "text/plain": [
              "<Figure size 1080x504 with 1 Axes>"
            ]
          },
          "metadata": {
            "tags": [],
            "needs_background": "light"
          }
        }
      ]
    },
    {
      "cell_type": "code",
      "metadata": {
        "id": "OlPDg4j2w7Wo",
        "colab": {
          "base_uri": "https://localhost:8080/",
          "height": 298
        },
        "outputId": "cb1b21d0-9e76-4700-fe34-07d7a07b96ab"
      },
      "source": [
        "movies.year.value_counts().sort_index().plot(kind='bar')"
      ],
      "execution_count": null,
      "outputs": [
        {
          "output_type": "execute_result",
          "data": {
            "text/plain": [
              "<matplotlib.axes._subplots.AxesSubplot at 0x7fe6ecf8bf28>"
            ]
          },
          "metadata": {
            "tags": []
          },
          "execution_count": 15
        },
        {
          "output_type": "display_data",
          "data": {
            "image/png": "[encoded data removed]",
            "text/plain": [
              "<Figure size 432x288 with 1 Axes>"
            ]
          },
          "metadata": {
            "tags": [],
            "needs_background": "light"
          }
        }
      ]
    },
    {
      "cell_type": "code",
      "metadata": {
        "id": "44WdGDtOw9BV",
        "colab": {
          "base_uri": "https://localhost:8080/",
          "height": 269
        },
        "outputId": "60a3973a-ab93-4d71-cc22-775b6cb6097f"
      },
      "source": [
        "corrMatrix = movies.corr()\n",
        "sn.heatmap(corrMatrix, annot=True)\n",
        "plt.show()"
      ],
      "execution_count": null,
      "outputs": [
        {
          "output_type": "display_data",
          "data": {
            "image/png": "[encoded data removed]",
            "text/plain": [
              "<Figure size 432x288 with 2 Axes>"
            ]
          },
          "metadata": {
            "tags": [],
            "needs_background": "light"
          }
        }
      ]
    },
    {
      "cell_type": "code",
      "metadata": {
        "id": "TVTuH_nSw_bN"
      },
      "source": [
        "movie_credit = pd.read_csv(\"/content/drive/My Drive/academic/1001FinalProject/data/movie_casting/tmdb_5000_credits.csv\")\n",
        "movie_2 = pd.read_csv(\"/content/drive/My Drive/academic/1001FinalProject/data/movie_casting/tmdb_5000_movies.csv\")"
      ],
      "execution_count": null,
      "outputs": []
    },
    {
      "cell_type": "code",
      "metadata": {
        "id": "V6q57ZFS1Xcv",
        "colab": {
          "base_uri": "https://localhost:8080/"
        },
        "outputId": "300c4009-020f-4c5b-dfc5-9650f3d062f0"
      },
      "source": [
        "movie_2['title'].value_counts()"
      ],
      "execution_count": null,
      "outputs": [
        {
          "output_type": "execute_result",
          "data": {
            "text/plain": [
              "Batman                        2\n",
              "The Host                      2\n",
              "Out of the Blue               2\n",
              "Halloween II                  1\n",
              "The Curse of Downers Grove    1\n",
              "                             ..\n",
              "Some Guy Who Kills People     1\n",
              "The Protector                 1\n",
              "Bright Star                   1\n",
              "The Runaways                  1\n",
              "Boyhood                       1\n",
              "Name: title, Length: 4800, dtype: int64"
            ]
          },
          "metadata": {
            "tags": []
          },
          "execution_count": 18
        }
      ]
    },
    {
      "cell_type": "code",
      "metadata": {
        "id": "bR1iOLkjxGB2",
        "colab": {
          "base_uri": "https://localhost:8080/",
          "height": 204
        },
        "outputId": "c6eafe61-8259-4367-d8ff-4c38570285cf"
      },
      "source": [
        "movie_credit.head()"
      ],
      "execution_count": null,
      "outputs": [
        {
          "output_type": "execute_result",
          "data": {
            "text/html": [
              "<div>\n",
              "<style scoped>\n",
              "    .dataframe tbody tr th:only-of-type {\n",
              "        vertical-align: middle;\n",
              "    }\n",
              "\n",
              "    .dataframe tbody tr th {\n",
              "        vertical-align: top;\n",
              "    }\n",
              "\n",
              "    .dataframe thead th {\n",
              "        text-align: right;\n",
              "    }\n",
              "</style>\n",
              "<table border=\"1\" class=\"dataframe\">\n",
              "  <thead>\n",
              "    <tr style=\"text-align: right;\">\n",
              "      <th></th>\n",
              "      <th>movie_id</th>\n",
              "      <th>title</th>\n",
              "      <th>cast</th>\n",
              "      <th>crew</th>\n",
              "    </tr>\n",
              "  </thead>\n",
              "  <tbody>\n",
              "    <tr>\n",
              "      <th>0</th>\n",
              "      <td>19995</td>\n",
              "      <td>Avatar</td>\n",
              "      <td>[{\"cast_id\": 242, \"character\": \"Jake Sully\", \"...</td>\n",
              "      <td>[{\"credit_id\": \"52fe48009251416c750aca23\", \"de...</td>\n",
              "    </tr>\n",
              "    <tr>\n",
              "      <th>1</th>\n",
              "      <td>285</td>\n",
              "      <td>Pirates of the Caribbean: At World's End</td>\n",
              "      <td>[{\"cast_id\": 4, \"character\": \"Captain Jack Spa...</td>\n",
              "      <td>[{\"credit_id\": \"52fe4232c3a36847f800b579\", \"de...</td>\n",
              "    </tr>\n",
              "    <tr>\n",
              "      <th>2</th>\n",
              "      <td>206647</td>\n",
              "      <td>Spectre</td>\n",
              "      <td>[{\"cast_id\": 1, \"character\": \"James Bond\", \"cr...</td>\n",
              "      <td>[{\"credit_id\": \"54805967c3a36829b5002c41\", \"de...</td>\n",
              "    </tr>\n",
              "    <tr>\n",
              "      <th>3</th>\n",
              "      <td>49026</td>\n",
              "      <td>The Dark Knight Rises</td>\n",
              "      <td>[{\"cast_id\": 2, \"character\": \"Bruce Wayne / Ba...</td>\n",
              "      <td>[{\"credit_id\": \"52fe4781c3a36847f81398c3\", \"de...</td>\n",
              "    </tr>\n",
              "    <tr>\n",
              "      <th>4</th>\n",
              "      <td>49529</td>\n",
              "      <td>John Carter</td>\n",
              "      <td>[{\"cast_id\": 5, \"character\": \"John Carter\", \"c...</td>\n",
              "      <td>[{\"credit_id\": \"52fe479ac3a36847f813eaa3\", \"de...</td>\n",
              "    </tr>\n",
              "  </tbody>\n",
              "</table>\n",
              "</div>"
            ],
            "text/plain": [
              "   movie_id  ...                                               crew\n",
              "0     19995  ...  [{\"credit_id\": \"52fe48009251416c750aca23\", \"de...\n",
              "1       285  ...  [{\"credit_id\": \"52fe4232c3a36847f800b579\", \"de...\n",
              "2    206647  ...  [{\"credit_id\": \"54805967c3a36829b5002c41\", \"de...\n",
              "3     49026  ...  [{\"credit_id\": \"52fe4781c3a36847f81398c3\", \"de...\n",
              "4     49529  ...  [{\"credit_id\": \"52fe479ac3a36847f813eaa3\", \"de...\n",
              "\n",
              "[5 rows x 4 columns]"
            ]
          },
          "metadata": {
            "tags": []
          },
          "execution_count": 19
        }
      ]
    },
    {
      "cell_type": "code",
      "metadata": {
        "id": "YrbMV3MlxGYB",
        "colab": {
          "base_uri": "https://localhost:8080/",
          "height": 717
        },
        "outputId": "3203f63e-8622-4594-a094-b55fd069ec18"
      },
      "source": [
        "movie_2.head()"
      ],
      "execution_count": null,
      "outputs": [
        {
          "output_type": "execute_result",
          "data": {
            "text/html": [
              "<div>\n",
              "<style scoped>\n",
              "    .dataframe tbody tr th:only-of-type {\n",
              "        vertical-align: middle;\n",
              "    }\n",
              "\n",
              "    .dataframe tbody tr th {\n",
              "        vertical-align: top;\n",
              "    }\n",
              "\n",
              "    .dataframe thead th {\n",
              "        text-align: right;\n",
              "    }\n",
              "</style>\n",
              "<table border=\"1\" class=\"dataframe\">\n",
              "  <thead>\n",
              "    <tr style=\"text-align: right;\">\n",
              "      <th></th>\n",
              "      <th>budget</th>\n",
              "      <th>genres</th>\n",
              "      <th>homepage</th>\n",
              "      <th>id</th>\n",
              "      <th>keywords</th>\n",
              "      <th>original_language</th>\n",
              "      <th>original_title</th>\n",
              "      <th>overview</th>\n",
              "      <th>popularity</th>\n",
              "      <th>production_companies</th>\n",
              "      <th>production_countries</th>\n",
              "      <th>release_date</th>\n",
              "      <th>revenue</th>\n",
              "      <th>runtime</th>\n",
              "      <th>spoken_languages</th>\n",
              "      <th>status</th>\n",
              "      <th>tagline</th>\n",
              "      <th>title</th>\n",
              "      <th>vote_average</th>\n",
              "      <th>vote_count</th>\n",
              "    </tr>\n",
              "  </thead>\n",
              "  <tbody>\n",
              "    <tr>\n",
              "      <th>0</th>\n",
              "      <td>237000000</td>\n",
              "      <td>[{\"id\": 28, \"name\": \"Action\"}, {\"id\": 12, \"nam...</td>\n",
              "      <td>http://www.avatarmovie.com/</td>\n",
              "      <td>19995</td>\n",
              "      <td>[{\"id\": 1463, \"name\": \"culture clash\"}, {\"id\":...</td>\n",
              "      <td>en</td>\n",
              "      <td>Avatar</td>\n",
              "      <td>In the 22nd century, a paraplegic Marine is di...</td>\n",
              "      <td>150.437577</td>\n",
              "      <td>[{\"name\": \"Ingenious Film Partners\", \"id\": 289...</td>\n",
              "      <td>[{\"iso_3166_1\": \"US\", \"name\": \"United States o...</td>\n",
              "      <td>2009-12-10</td>\n",
              "      <td>2787965087</td>\n",
              "      <td>162.0</td>\n",
              "      <td>[{\"iso_639_1\": \"en\", \"name\": \"English\"}, {\"iso...</td>\n",
              "      <td>Released</td>\n",
              "      <td>Enter the World of Pandora.</td>\n",
              "      <td>Avatar</td>\n",
              "      <td>7.2</td>\n",
              "      <td>11800</td>\n",
              "    </tr>\n",
              "    <tr>\n",
              "      <th>1</th>\n",
              "      <td>300000000</td>\n",
              "      <td>[{\"id\": 12, \"name\": \"Adventure\"}, {\"id\": 14, \"...</td>\n",
              "      <td>http://disney.go.com/disneypictures/pirates/</td>\n",
              "      <td>285</td>\n",
              "      <td>[{\"id\": 270, \"name\": \"ocean\"}, {\"id\": 726, \"na...</td>\n",
              "      <td>en</td>\n",
              "      <td>Pirates of the Caribbean: At World's End</td>\n",
              "      <td>Captain Barbossa, long believed to be dead, ha...</td>\n",
              "      <td>139.082615</td>\n",
              "      <td>[{\"name\": \"Walt Disney Pictures\", \"id\": 2}, {\"...</td>\n",
              "      <td>[{\"iso_3166_1\": \"US\", \"name\": \"United States o...</td>\n",
              "      <td>2007-05-19</td>\n",
              "      <td>961000000</td>\n",
              "      <td>169.0</td>\n",
              "      <td>[{\"iso_639_1\": \"en\", \"name\": \"English\"}]</td>\n",
              "      <td>Released</td>\n",
              "      <td>At the end of the world, the adventure begins.</td>\n",
              "      <td>Pirates of the Caribbean: At World's End</td>\n",
              "      <td>6.9</td>\n",
              "      <td>4500</td>\n",
              "    </tr>\n",
              "    <tr>\n",
              "      <th>2</th>\n",
              "      <td>245000000</td>\n",
              "      <td>[{\"id\": 28, \"name\": \"Action\"}, {\"id\": 12, \"nam...</td>\n",
              "      <td>http://www.sonypictures.com/movies/spectre/</td>\n",
              "      <td>206647</td>\n",
              "      <td>[{\"id\": 470, \"name\": \"spy\"}, {\"id\": 818, \"name...</td>\n",
              "      <td>en</td>\n",
              "      <td>Spectre</td>\n",
              "      <td>A cryptic message from Bond’s past sends him o...</td>\n",
              "      <td>107.376788</td>\n",
              "      <td>[{\"name\": \"Columbia Pictures\", \"id\": 5}, {\"nam...</td>\n",
              "      <td>[{\"iso_3166_1\": \"GB\", \"name\": \"United Kingdom\"...</td>\n",
              "      <td>2015-10-26</td>\n",
              "      <td>880674609</td>\n",
              "      <td>148.0</td>\n",
              "      <td>[{\"iso_639_1\": \"fr\", \"name\": \"Fran\\u00e7ais\"},...</td>\n",
              "      <td>Released</td>\n",
              "      <td>A Plan No One Escapes</td>\n",
              "      <td>Spectre</td>\n",
              "      <td>6.3</td>\n",
              "      <td>4466</td>\n",
              "    </tr>\n",
              "    <tr>\n",
              "      <th>3</th>\n",
              "      <td>250000000</td>\n",
              "      <td>[{\"id\": 28, \"name\": \"Action\"}, {\"id\": 80, \"nam...</td>\n",
              "      <td>http://www.thedarkknightrises.com/</td>\n",
              "      <td>49026</td>\n",
              "      <td>[{\"id\": 849, \"name\": \"dc comics\"}, {\"id\": 853,...</td>\n",
              "      <td>en</td>\n",
              "      <td>The Dark Knight Rises</td>\n",
              "      <td>Following the death of District Attorney Harve...</td>\n",
              "      <td>112.312950</td>\n",
              "      <td>[{\"name\": \"Legendary Pictures\", \"id\": 923}, {\"...</td>\n",
              "      <td>[{\"iso_3166_1\": \"US\", \"name\": \"United States o...</td>\n",
              "      <td>2012-07-16</td>\n",
              "      <td>1084939099</td>\n",
              "      <td>165.0</td>\n",
              "      <td>[{\"iso_639_1\": \"en\", \"name\": \"English\"}]</td>\n",
              "      <td>Released</td>\n",
              "      <td>The Legend Ends</td>\n",
              "      <td>The Dark Knight Rises</td>\n",
              "      <td>7.6</td>\n",
              "      <td>9106</td>\n",
              "    </tr>\n",
              "    <tr>\n",
              "      <th>4</th>\n",
              "      <td>260000000</td>\n",
              "      <td>[{\"id\": 28, \"name\": \"Action\"}, {\"id\": 12, \"nam...</td>\n",
              "      <td>http://movies.disney.com/john-carter</td>\n",
              "      <td>49529</td>\n",
              "      <td>[{\"id\": 818, \"name\": \"based on novel\"}, {\"id\":...</td>\n",
              "      <td>en</td>\n",
              "      <td>John Carter</td>\n",
              "      <td>John Carter is a war-weary, former military ca...</td>\n",
              "      <td>43.926995</td>\n",
              "      <td>[{\"name\": \"Walt Disney Pictures\", \"id\": 2}]</td>\n",
              "      <td>[{\"iso_3166_1\": \"US\", \"name\": \"United States o...</td>\n",
              "      <td>2012-03-07</td>\n",
              "      <td>284139100</td>\n",
              "      <td>132.0</td>\n",
              "      <td>[{\"iso_639_1\": \"en\", \"name\": \"English\"}]</td>\n",
              "      <td>Released</td>\n",
              "      <td>Lost in our world, found in another.</td>\n",
              "      <td>John Carter</td>\n",
              "      <td>6.1</td>\n",
              "      <td>2124</td>\n",
              "    </tr>\n",
              "  </tbody>\n",
              "</table>\n",
              "</div>"
            ],
            "text/plain": [
              "      budget  ... vote_count\n",
              "0  237000000  ...      11800\n",
              "1  300000000  ...       4500\n",
              "2  245000000  ...       4466\n",
              "3  250000000  ...       9106\n",
              "4  260000000  ...       2124\n",
              "\n",
              "[5 rows x 20 columns]"
            ]
          },
          "metadata": {
            "tags": []
          },
          "execution_count": 20
        }
      ]
    },
    {
      "cell_type": "code",
      "metadata": {
        "id": "RX_WeJTAfGrx"
      },
      "source": [
        "#add year column\n",
        "movie_2.release_date = pd.to_datetime(movie_2.release_date)\n",
        "movie_2['release_year'] = pd.DatetimeIndex(movie_2['release_date']).year"
      ],
      "execution_count": null,
      "outputs": []
    },
    {
      "cell_type": "code",
      "metadata": {
        "id": "mvYd0SXW-fkC",
        "colab": {
          "base_uri": "https://localhost:8080/"
        },
        "outputId": "9d2d74bf-e4d6-4fc0-b6ae-a9a3cfaa7a6d"
      },
      "source": [
        "movies.columns"
      ],
      "execution_count": null,
      "outputs": [
        {
          "output_type": "execute_result",
          "data": {
            "text/plain": [
              "Index(['budget', 'company', 'country', 'director', 'genre', 'gross', 'name',\n",
              "       'rating', 'released', 'runtime', 'score', 'star', 'votes', 'writer',\n",
              "       'year'],\n",
              "      dtype='object')"
            ]
          },
          "metadata": {
            "tags": []
          },
          "execution_count": 22
        }
      ]
    },
    {
      "cell_type": "code",
      "metadata": {
        "id": "tF0q7hi6fK1b"
      },
      "source": [
        "#combine the imdb movie and movie credit\n",
        "first_join = pd.merge(movie_2, movie_credit, how='inner', left_on='id',right_on = 'movie_id')\n",
        "#join the imdb movie and original movie1 that have rating\n",
        "second_join = pd.merge(first_join,movies, how = 'inner', left_on=['title_x','release_year'], right_on=['name','year'])"
      ],
      "execution_count": null,
      "outputs": []
    },
    {
      "cell_type": "code",
      "metadata": {
        "id": "YgcIJbaC-j6w",
        "colab": {
          "base_uri": "https://localhost:8080/"
        },
        "outputId": "1741501b-144f-4102-f6d9-a1bbd854d45e"
      },
      "source": [
        "second_join.columns"
      ],
      "execution_count": null,
      "outputs": [
        {
          "output_type": "execute_result",
          "data": {
            "text/plain": [
              "Index(['budget_x', 'genres', 'homepage', 'id', 'keywords', 'original_language',\n",
              "       'original_title', 'overview', 'popularity', 'production_companies',\n",
              "       'production_countries', 'release_date', 'revenue', 'runtime_x',\n",
              "       'spoken_languages', 'status', 'tagline', 'title_x', 'vote_average',\n",
              "       'vote_count', 'release_year', 'movie_id', 'title_y', 'cast', 'crew',\n",
              "       'budget_y', 'company', 'country', 'director', 'genre', 'gross', 'name',\n",
              "       'rating', 'released', 'runtime_y', 'score', 'star', 'votes', 'writer',\n",
              "       'year'],\n",
              "      dtype='object')"
            ]
          },
          "metadata": {
            "tags": []
          },
          "execution_count": 24
        }
      ]
    },
    {
      "cell_type": "code",
      "metadata": {
        "id": "yefR6Tzws_K2",
        "colab": {
          "base_uri": "https://localhost:8080/"
        },
        "outputId": "4045c7d7-e751-4157-9967-8cb836e4280c"
      },
      "source": [
        "first_join.columns"
      ],
      "execution_count": null,
      "outputs": [
        {
          "output_type": "execute_result",
          "data": {
            "text/plain": [
              "Index(['budget', 'genres', 'homepage', 'id', 'keywords', 'original_language',\n",
              "       'original_title', 'overview', 'popularity', 'production_companies',\n",
              "       'production_countries', 'release_date', 'revenue', 'runtime',\n",
              "       'spoken_languages', 'status', 'tagline', 'title_x', 'vote_average',\n",
              "       'vote_count', 'release_year', 'movie_id', 'title_y', 'cast', 'crew'],\n",
              "      dtype='object')"
            ]
          },
          "metadata": {
            "tags": []
          },
          "execution_count": 25
        }
      ]
    },
    {
      "cell_type": "code",
      "metadata": {
        "id": "sSj6-TCefs82",
        "colab": {
          "base_uri": "https://localhost:8080/"
        },
        "outputId": "0b74f50e-49f7-4c92-896c-4270a4c92389"
      },
      "source": [
        "# delete the movies where budget is 0\n",
        "final_join = second_join[(second_join['budget_x'] != 0) | (second_join['budget_y'] != 0)]\n",
        "final_join = final_join.reset_index()\n",
        "final_join.columns"
      ],
      "execution_count": null,
      "outputs": [
        {
          "output_type": "execute_result",
          "data": {
            "text/plain": [
              "Index(['index', 'budget_x', 'genres', 'homepage', 'id', 'keywords',\n",
              "       'original_language', 'original_title', 'overview', 'popularity',\n",
              "       'production_companies', 'production_countries', 'release_date',\n",
              "       'revenue', 'runtime_x', 'spoken_languages', 'status', 'tagline',\n",
              "       'title_x', 'vote_average', 'vote_count', 'release_year', 'movie_id',\n",
              "       'title_y', 'cast', 'crew', 'budget_y', 'company', 'country', 'director',\n",
              "       'genre', 'gross', 'name', 'rating', 'released', 'runtime_y', 'score',\n",
              "       'star', 'votes', 'writer', 'year'],\n",
              "      dtype='object')"
            ]
          },
          "metadata": {
            "tags": []
          },
          "execution_count": 26
        }
      ]
    },
    {
      "cell_type": "code",
      "metadata": {
        "id": "F7i0xiy1fyMS",
        "colab": {
          "base_uri": "https://localhost:8080/"
        },
        "outputId": "2ac5adcf-6105-4179-fcec-50ab2ae4a403"
      },
      "source": [
        "# find the movies count\n",
        "final_join['title_x'].value_counts(ascending = False)"
      ],
      "execution_count": null,
      "outputs": [
        {
          "output_type": "execute_result",
          "data": {
            "text/plain": [
              "The Host                        2\n",
              "The Purge: Election Year        1\n",
              "Dudley Do-Right                 1\n",
              "The Battle of Shaker Heights    1\n",
              "This Is the End                 1\n",
              "                               ..\n",
              "The Cold Light of Day           1\n",
              "The Big Short                   1\n",
              "Drive Angry                     1\n",
              "Rollerball                      1\n",
              "Two Lovers                      1\n",
              "Name: title_x, Length: 2947, dtype: int64"
            ]
          },
          "metadata": {
            "tags": []
          },
          "execution_count": 27
        }
      ]
    },
    {
      "cell_type": "code",
      "metadata": {
        "id": "edygFC0Tf1WS",
        "colab": {
          "base_uri": "https://localhost:8080/",
          "height": 335
        },
        "outputId": "be1be19b-0dcc-4cd3-893b-6993cae62da5"
      },
      "source": [
        "# duplicate movies\n",
        "final_join[final_join['title_x'] == 'The Host']"
      ],
      "execution_count": null,
      "outputs": [
        {
          "output_type": "execute_result",
          "data": {
            "text/html": [
              "<div>\n",
              "<style scoped>\n",
              "    .dataframe tbody tr th:only-of-type {\n",
              "        vertical-align: middle;\n",
              "    }\n",
              "\n",
              "    .dataframe tbody tr th {\n",
              "        vertical-align: top;\n",
              "    }\n",
              "\n",
              "    .dataframe thead th {\n",
              "        text-align: right;\n",
              "    }\n",
              "</style>\n",
              "<table border=\"1\" class=\"dataframe\">\n",
              "  <thead>\n",
              "    <tr style=\"text-align: right;\">\n",
              "      <th></th>\n",
              "      <th>index</th>\n",
              "      <th>budget_x</th>\n",
              "      <th>genres</th>\n",
              "      <th>homepage</th>\n",
              "      <th>id</th>\n",
              "      <th>keywords</th>\n",
              "      <th>original_language</th>\n",
              "      <th>original_title</th>\n",
              "      <th>overview</th>\n",
              "      <th>popularity</th>\n",
              "      <th>production_companies</th>\n",
              "      <th>production_countries</th>\n",
              "      <th>release_date</th>\n",
              "      <th>revenue</th>\n",
              "      <th>runtime_x</th>\n",
              "      <th>spoken_languages</th>\n",
              "      <th>status</th>\n",
              "      <th>tagline</th>\n",
              "      <th>title_x</th>\n",
              "      <th>vote_average</th>\n",
              "      <th>vote_count</th>\n",
              "      <th>release_year</th>\n",
              "      <th>movie_id</th>\n",
              "      <th>title_y</th>\n",
              "      <th>cast</th>\n",
              "      <th>crew</th>\n",
              "      <th>budget_y</th>\n",
              "      <th>company</th>\n",
              "      <th>country</th>\n",
              "      <th>director</th>\n",
              "      <th>genre</th>\n",
              "      <th>gross</th>\n",
              "      <th>name</th>\n",
              "      <th>rating</th>\n",
              "      <th>released</th>\n",
              "      <th>runtime_y</th>\n",
              "      <th>score</th>\n",
              "      <th>star</th>\n",
              "      <th>votes</th>\n",
              "      <th>writer</th>\n",
              "      <th>year</th>\n",
              "    </tr>\n",
              "  </thead>\n",
              "  <tbody>\n",
              "    <tr>\n",
              "      <th>881</th>\n",
              "      <td>885</td>\n",
              "      <td>44000000</td>\n",
              "      <td>[{\"id\": 28, \"name\": \"Action\"}, {\"id\": 12, \"nam...</td>\n",
              "      <td>NaN</td>\n",
              "      <td>72710</td>\n",
              "      <td>[{\"id\": 818, \"name\": \"based on novel\"}, {\"id\":...</td>\n",
              "      <td>en</td>\n",
              "      <td>The Host</td>\n",
              "      <td>A parasitic alien soul is injected into the bo...</td>\n",
              "      <td>42.933027</td>\n",
              "      <td>[{\"name\": \"Nick Wechsler Productions\", \"id\": 8...</td>\n",
              "      <td>[{\"iso_3166_1\": \"US\", \"name\": \"United States o...</td>\n",
              "      <td>2013-03-22</td>\n",
              "      <td>63327201</td>\n",
              "      <td>125.0</td>\n",
              "      <td>[{\"iso_639_1\": \"en\", \"name\": \"English\"}]</td>\n",
              "      <td>Released</td>\n",
              "      <td>You will be one of us</td>\n",
              "      <td>The Host</td>\n",
              "      <td>6.0</td>\n",
              "      <td>1817</td>\n",
              "      <td>2013.0</td>\n",
              "      <td>72710</td>\n",
              "      <td>The Host</td>\n",
              "      <td>[{\"cast_id\": 52, \"character\": \"Melanie Stryder...</td>\n",
              "      <td>[{\"credit_id\": \"52fe487bc3a368484e0fa919\", \"de...</td>\n",
              "      <td>40000000</td>\n",
              "      <td>Chockstone Pictures</td>\n",
              "      <td>USA</td>\n",
              "      <td>Andrew Niccol</td>\n",
              "      <td>Action</td>\n",
              "      <td>26627201</td>\n",
              "      <td>The Host</td>\n",
              "      <td>PG-13</td>\n",
              "      <td>2013-03-29</td>\n",
              "      <td>125</td>\n",
              "      <td>5.9</td>\n",
              "      <td>Saoirse Ronan</td>\n",
              "      <td>98678</td>\n",
              "      <td>Andrew Niccol</td>\n",
              "      <td>2013</td>\n",
              "    </tr>\n",
              "    <tr>\n",
              "      <th>2312</th>\n",
              "      <td>2343</td>\n",
              "      <td>11000000</td>\n",
              "      <td>[{\"id\": 27, \"name\": \"Horror\"}, {\"id\": 18, \"nam...</td>\n",
              "      <td>http://www.hostmovie.com/</td>\n",
              "      <td>1255</td>\n",
              "      <td>[{\"id\": 1261, \"name\": \"river\"}, {\"id\": 1880, \"...</td>\n",
              "      <td>ko</td>\n",
              "      <td>괴물</td>\n",
              "      <td>Gang-du is a dim-witted man working at his fat...</td>\n",
              "      <td>27.655270</td>\n",
              "      <td>[{\"name\": \"Cineclick Asia\", \"id\": 685}, {\"name...</td>\n",
              "      <td>[{\"iso_3166_1\": \"KR\", \"name\": \"South Korea\"}]</td>\n",
              "      <td>2006-07-27</td>\n",
              "      <td>88489643</td>\n",
              "      <td>119.0</td>\n",
              "      <td>[{\"iso_639_1\": \"ko\", \"name\": \"\\ud55c\\uad6d\\uc5...</td>\n",
              "      <td>Released</td>\n",
              "      <td>Monsters are real.</td>\n",
              "      <td>The Host</td>\n",
              "      <td>6.7</td>\n",
              "      <td>537</td>\n",
              "      <td>2006.0</td>\n",
              "      <td>1255</td>\n",
              "      <td>The Host</td>\n",
              "      <td>[{\"cast_id\": 3, \"character\": \"Park Gang-du\", \"...</td>\n",
              "      <td>[{\"credit_id\": \"52fe42eac3a36847f802ca6b\", \"de...</td>\n",
              "      <td>0</td>\n",
              "      <td>Showbox Entertainment</td>\n",
              "      <td>South Korea</td>\n",
              "      <td>Joon-ho Bong</td>\n",
              "      <td>Action</td>\n",
              "      <td>2201923</td>\n",
              "      <td>The Host</td>\n",
              "      <td>R</td>\n",
              "      <td>2007-03-30</td>\n",
              "      <td>120</td>\n",
              "      <td>7.0</td>\n",
              "      <td>Kang-ho Song</td>\n",
              "      <td>76265</td>\n",
              "      <td>Joon-ho Bong</td>\n",
              "      <td>2006</td>\n",
              "    </tr>\n",
              "  </tbody>\n",
              "</table>\n",
              "</div>"
            ],
            "text/plain": [
              "      index  budget_x  ...         writer  year\n",
              "881     885  44000000  ...  Andrew Niccol  2013\n",
              "2312   2343  11000000  ...   Joon-ho Bong  2006\n",
              "\n",
              "[2 rows x 41 columns]"
            ]
          },
          "metadata": {
            "tags": []
          },
          "execution_count": 28
        }
      ]
    },
    {
      "cell_type": "code",
      "metadata": {
        "id": "nuTcnWtbt6Ox"
      },
      "source": [
        "#fill budget\n",
        "final_join['budget'] = final_join.apply(lambda x: x['budget_y'] if x['budget_y'] != 0 else x['budget_x'],axis = 1)"
      ],
      "execution_count": null,
      "outputs": []
    },
    {
      "cell_type": "markdown",
      "metadata": {
        "id": "LXEU-Xpk5FuF"
      },
      "source": [
        "2.1 Flatten keywords, genres, cast, crew"
      ]
    },
    {
      "cell_type": "markdown",
      "metadata": {
        "id": "UzkXLFpL8ZOO"
      },
      "source": [
        "keywords"
      ]
    },
    {
      "cell_type": "code",
      "metadata": {
        "id": "hOLx2vCuf6nY",
        "colab": {
          "base_uri": "https://localhost:8080/",
          "height": 103
        },
        "outputId": "7f48943d-81cb-4e64-e5c0-5aaa9a257b22"
      },
      "source": [
        "final_join['keywords'][0]"
      ],
      "execution_count": null,
      "outputs": [
        {
          "output_type": "execute_result",
          "data": {
            "application/vnd.google.colaboratory.intrinsic+json": {
              "type": "string"
            },
            "text/plain": [
              "'[{\"id\": 1463, \"name\": \"culture clash\"}, {\"id\": 2964, \"name\": \"future\"}, {\"id\": 3386, \"name\": \"space war\"}, {\"id\": 3388, \"name\": \"space colony\"}, {\"id\": 3679, \"name\": \"society\"}, {\"id\": 3801, \"name\": \"space travel\"}, {\"id\": 9685, \"name\": \"futuristic\"}, {\"id\": 9840, \"name\": \"romance\"}, {\"id\": 9882, \"name\": \"space\"}, {\"id\": 9951, \"name\": \"alien\"}, {\"id\": 10148, \"name\": \"tribe\"}, {\"id\": 10158, \"name\": \"alien planet\"}, {\"id\": 10987, \"name\": \"cgi\"}, {\"id\": 11399, \"name\": \"marine\"}, {\"id\": 13065, \"name\": \"soldier\"}, {\"id\": 14643, \"name\": \"battle\"}, {\"id\": 14720, \"name\": \"love affair\"}, {\"id\": 165431, \"name\": \"anti war\"}, {\"id\": 193554, \"name\": \"power relations\"}, {\"id\": 206690, \"name\": \"mind and soul\"}, {\"id\": 209714, \"name\": \"3d\"}]'"
            ]
          },
          "metadata": {
            "tags": []
          },
          "execution_count": 30
        }
      ]
    },
    {
      "cell_type": "code",
      "metadata": {
        "id": "o12F0wE-f67i"
      },
      "source": [
        "#change the strings to dictionary\n",
        "final_join.loc[:,'keywords'] = final_join['keywords'].apply(lambda x: ast.literal_eval(x))"
      ],
      "execution_count": null,
      "outputs": []
    },
    {
      "cell_type": "code",
      "metadata": {
        "id": "WHwpgyXsf-Bh"
      },
      "source": [
        "#find the number of keywords in each movie\n",
        "final_join.loc[:,'numKeywords'] = final_join['keywords'].apply(lambda x: len(x))"
      ],
      "execution_count": null,
      "outputs": []
    },
    {
      "cell_type": "code",
      "metadata": {
        "id": "oCHzVdcuf_mC",
        "colab": {
          "base_uri": "https://localhost:8080/",
          "height": 312
        },
        "outputId": "13cd586a-fa8e-4e60-f59a-2a67ae6dac89"
      },
      "source": [
        "#plot the distribution of the keywords\n",
        "plt.hist(final_join['numKeywords'], bins = 20)\n",
        "plt.title(\"Distribution of the number of the keywords of each movie\")\n",
        "plt.xlabel('Number of Keywords')\n",
        "plt.ylabel('Count')"
      ],
      "execution_count": null,
      "outputs": [
        {
          "output_type": "execute_result",
          "data": {
            "text/plain": [
              "Text(0, 0.5, 'Count')"
            ]
          },
          "metadata": {
            "tags": []
          },
          "execution_count": 33
        },
        {
          "output_type": "display_data",
          "data": {
            "image/png": "[encoded data removed]",
            "text/plain": [
              "<Figure size 432x288 with 1 Axes>"
            ]
          },
          "metadata": {
            "tags": [],
            "needs_background": "light"
          }
        }
      ]
    },
    {
      "cell_type": "code",
      "metadata": {
        "id": "xU3aY9WDgEnA"
      },
      "source": [
        "#convert keywords to list\n",
        "keyword = [val for sublist in final_join['keywords'].to_list() for val in sublist]"
      ],
      "execution_count": null,
      "outputs": []
    },
    {
      "cell_type": "code",
      "metadata": {
        "id": "ZHzDWlrcgGxk",
        "colab": {
          "base_uri": "https://localhost:8080/"
        },
        "outputId": "cc568a5b-f1f9-49db-d5f4-00bb76da4e55"
      },
      "source": [
        "#number of unique keywords\n",
        "len(list({v['id']:v for v in keyword}.values()))"
      ],
      "execution_count": null,
      "outputs": [
        {
          "output_type": "execute_result",
          "data": {
            "text/plain": [
              "8085"
            ]
          },
          "metadata": {
            "tags": []
          },
          "execution_count": 35
        }
      ]
    },
    {
      "cell_type": "code",
      "metadata": {
        "id": "EfJto902gIdv"
      },
      "source": [
        "#find the number of occurence of each keyword in all the movies\n",
        "result = {}\n",
        "for v in keyword:\n",
        "  name = v['name']\n",
        "  if name in result:\n",
        "    result[name] += 1\n",
        "  else:\n",
        "    result[name] = 1\n",
        "keyword_df = pd.DataFrame(list(result.items()), columns = ['Keywords','Number of Occurrence'])"
      ],
      "execution_count": null,
      "outputs": []
    },
    {
      "cell_type": "code",
      "metadata": {
        "id": "GmLRWUuwgI2Y",
        "colab": {
          "base_uri": "https://localhost:8080/",
          "height": 419
        },
        "outputId": "701ab47f-904c-4f56-9bde-a10349ca9bc1"
      },
      "source": [
        "keyword_df.sort_values('Number of Occurrence', ascending= False)"
      ],
      "execution_count": null,
      "outputs": [
        {
          "output_type": "execute_result",
          "data": {
            "text/html": [
              "<div>\n",
              "<style scoped>\n",
              "    .dataframe tbody tr th:only-of-type {\n",
              "        vertical-align: middle;\n",
              "    }\n",
              "\n",
              "    .dataframe tbody tr th {\n",
              "        vertical-align: top;\n",
              "    }\n",
              "\n",
              "    .dataframe thead th {\n",
              "        text-align: right;\n",
              "    }\n",
              "</style>\n",
              "<table border=\"1\" class=\"dataframe\">\n",
              "  <thead>\n",
              "    <tr style=\"text-align: right;\">\n",
              "      <th></th>\n",
              "      <th>Keywords</th>\n",
              "      <th>Number of Occurrence</th>\n",
              "    </tr>\n",
              "  </thead>\n",
              "  <tbody>\n",
              "    <tr>\n",
              "      <th>101</th>\n",
              "      <td>duringcreditsstinger</td>\n",
              "      <td>252</td>\n",
              "    </tr>\n",
              "    <tr>\n",
              "      <th>407</th>\n",
              "      <td>woman director</td>\n",
              "      <td>181</td>\n",
              "    </tr>\n",
              "    <tr>\n",
              "      <th>38</th>\n",
              "      <td>based on novel</td>\n",
              "      <td>155</td>\n",
              "    </tr>\n",
              "    <tr>\n",
              "      <th>1802</th>\n",
              "      <td>independent film</td>\n",
              "      <td>147</td>\n",
              "    </tr>\n",
              "    <tr>\n",
              "      <th>36</th>\n",
              "      <td>aftercreditsstinger</td>\n",
              "      <td>131</td>\n",
              "    </tr>\n",
              "    <tr>\n",
              "      <th>...</th>\n",
              "      <td>...</td>\n",
              "      <td>...</td>\n",
              "    </tr>\n",
              "    <tr>\n",
              "      <th>4451</th>\n",
              "      <td>havanna</td>\n",
              "      <td>1</td>\n",
              "    </tr>\n",
              "    <tr>\n",
              "      <th>669</th>\n",
              "      <td>cuban missile crisis</td>\n",
              "      <td>1</td>\n",
              "    </tr>\n",
              "    <tr>\n",
              "      <th>4446</th>\n",
              "      <td>proof</td>\n",
              "      <td>1</td>\n",
              "    </tr>\n",
              "    <tr>\n",
              "      <th>679</th>\n",
              "      <td>merlin</td>\n",
              "      <td>1</td>\n",
              "    </tr>\n",
              "    <tr>\n",
              "      <th>8084</th>\n",
              "      <td>guitar case</td>\n",
              "      <td>1</td>\n",
              "    </tr>\n",
              "  </tbody>\n",
              "</table>\n",
              "<p>8085 rows × 2 columns</p>\n",
              "</div>"
            ],
            "text/plain": [
              "                  Keywords  Number of Occurrence\n",
              "101   duringcreditsstinger                   252\n",
              "407         woman director                   181\n",
              "38          based on novel                   155\n",
              "1802      independent film                   147\n",
              "36     aftercreditsstinger                   131\n",
              "...                    ...                   ...\n",
              "4451               havanna                     1\n",
              "669   cuban missile crisis                     1\n",
              "4446                 proof                     1\n",
              "679                 merlin                     1\n",
              "8084           guitar case                     1\n",
              "\n",
              "[8085 rows x 2 columns]"
            ]
          },
          "metadata": {
            "tags": []
          },
          "execution_count": 37
        }
      ]
    },
    {
      "cell_type": "code",
      "metadata": {
        "id": "tZ9M4pCILAGd",
        "colab": {
          "base_uri": "https://localhost:8080/",
          "height": 312
        },
        "outputId": "2344882d-b0db-4709-9088-571e374ef7e1"
      },
      "source": [
        "length = []\n",
        "for num in range(1,252):\n",
        "  length.append(len(keyword_df[keyword_df['Number of Occurrence'] > num]))\n",
        "plt.plot(length)\n",
        "plt.title(\"Number of keywords that existed for more than certain number(s) of movies\")\n",
        "plt.xlabel(\"Number of times that (a) keyword(s) existed among all movies\")\n",
        "plt.ylabel(\"Number of keywords remained\")\n",
        "# I chose the cut off at 35. Only keywords that existed for 35 or more movies are kept in further analysis"
      ],
      "execution_count": null,
      "outputs": [
        {
          "output_type": "execute_result",
          "data": {
            "text/plain": [
              "Text(0, 0.5, 'Number of keywords remained')"
            ]
          },
          "metadata": {
            "tags": []
          },
          "execution_count": 38
        },
        {
          "output_type": "display_data",
          "data": {
            "image/png": "[encoded data removed]",
            "text/plain": [
              "<Figure size 432x288 with 1 Axes>"
            ]
          },
          "metadata": {
            "tags": [],
            "needs_background": "light"
          }
        }
      ]
    },
    {
      "cell_type": "code",
      "metadata": {
        "id": "jeLbTpWzLayj",
        "colab": {
          "base_uri": "https://localhost:8080/",
          "height": 1000
        },
        "outputId": "500849d5-1d3d-4f91-80b9-9dc94b6404a4"
      },
      "source": [
        "#use the keywords that occur more than 35 times\n",
        "#total of 60\n",
        "keyword_df[keyword_df['Number of Occurrence'] > 35].sort_values('Number of Occurrence', ascending= False)"
      ],
      "execution_count": null,
      "outputs": [
        {
          "output_type": "execute_result",
          "data": {
            "text/html": [
              "<div>\n",
              "<style scoped>\n",
              "    .dataframe tbody tr th:only-of-type {\n",
              "        vertical-align: middle;\n",
              "    }\n",
              "\n",
              "    .dataframe tbody tr th {\n",
              "        vertical-align: top;\n",
              "    }\n",
              "\n",
              "    .dataframe thead th {\n",
              "        text-align: right;\n",
              "    }\n",
              "</style>\n",
              "<table border=\"1\" class=\"dataframe\">\n",
              "  <thead>\n",
              "    <tr style=\"text-align: right;\">\n",
              "      <th></th>\n",
              "      <th>Keywords</th>\n",
              "      <th>Number of Occurrence</th>\n",
              "    </tr>\n",
              "  </thead>\n",
              "  <tbody>\n",
              "    <tr>\n",
              "      <th>101</th>\n",
              "      <td>duringcreditsstinger</td>\n",
              "      <td>252</td>\n",
              "    </tr>\n",
              "    <tr>\n",
              "      <th>407</th>\n",
              "      <td>woman director</td>\n",
              "      <td>181</td>\n",
              "    </tr>\n",
              "    <tr>\n",
              "      <th>38</th>\n",
              "      <td>based on novel</td>\n",
              "      <td>155</td>\n",
              "    </tr>\n",
              "    <tr>\n",
              "      <th>1802</th>\n",
              "      <td>independent film</td>\n",
              "      <td>147</td>\n",
              "    </tr>\n",
              "    <tr>\n",
              "      <th>36</th>\n",
              "      <td>aftercreditsstinger</td>\n",
              "      <td>131</td>\n",
              "    </tr>\n",
              "    <tr>\n",
              "      <th>499</th>\n",
              "      <td>murder</td>\n",
              "      <td>121</td>\n",
              "    </tr>\n",
              "    <tr>\n",
              "      <th>1150</th>\n",
              "      <td>violence</td>\n",
              "      <td>111</td>\n",
              "    </tr>\n",
              "    <tr>\n",
              "      <th>309</th>\n",
              "      <td>dystopia</td>\n",
              "      <td>97</td>\n",
              "    </tr>\n",
              "    <tr>\n",
              "      <th>1535</th>\n",
              "      <td>sport</td>\n",
              "      <td>83</td>\n",
              "    </tr>\n",
              "    <tr>\n",
              "      <th>89</th>\n",
              "      <td>revenge</td>\n",
              "      <td>81</td>\n",
              "    </tr>\n",
              "    <tr>\n",
              "      <th>358</th>\n",
              "      <td>friendship</td>\n",
              "      <td>77</td>\n",
              "    </tr>\n",
              "    <tr>\n",
              "      <th>20</th>\n",
              "      <td>3d</td>\n",
              "      <td>73</td>\n",
              "    </tr>\n",
              "    <tr>\n",
              "      <th>40</th>\n",
              "      <td>sequel</td>\n",
              "      <td>73</td>\n",
              "    </tr>\n",
              "    <tr>\n",
              "      <th>1721</th>\n",
              "      <td>sex</td>\n",
              "      <td>72</td>\n",
              "    </tr>\n",
              "    <tr>\n",
              "      <th>156</th>\n",
              "      <td>new york</td>\n",
              "      <td>70</td>\n",
              "    </tr>\n",
              "    <tr>\n",
              "      <th>746</th>\n",
              "      <td>teenager</td>\n",
              "      <td>69</td>\n",
              "    </tr>\n",
              "    <tr>\n",
              "      <th>217</th>\n",
              "      <td>love</td>\n",
              "      <td>68</td>\n",
              "    </tr>\n",
              "    <tr>\n",
              "      <th>1564</th>\n",
              "      <td>biography</td>\n",
              "      <td>66</td>\n",
              "    </tr>\n",
              "    <tr>\n",
              "      <th>342</th>\n",
              "      <td>los angeles</td>\n",
              "      <td>63</td>\n",
              "    </tr>\n",
              "    <tr>\n",
              "      <th>1399</th>\n",
              "      <td>police</td>\n",
              "      <td>61</td>\n",
              "    </tr>\n",
              "    <tr>\n",
              "      <th>54</th>\n",
              "      <td>superhero</td>\n",
              "      <td>60</td>\n",
              "    </tr>\n",
              "    <tr>\n",
              "      <th>3766</th>\n",
              "      <td>high school</td>\n",
              "      <td>59</td>\n",
              "    </tr>\n",
              "    <tr>\n",
              "      <th>94</th>\n",
              "      <td>musical</td>\n",
              "      <td>57</td>\n",
              "    </tr>\n",
              "    <tr>\n",
              "      <th>9</th>\n",
              "      <td>alien</td>\n",
              "      <td>56</td>\n",
              "    </tr>\n",
              "    <tr>\n",
              "      <th>508</th>\n",
              "      <td>family</td>\n",
              "      <td>55</td>\n",
              "    </tr>\n",
              "    <tr>\n",
              "      <th>1739</th>\n",
              "      <td>drug</td>\n",
              "      <td>55</td>\n",
              "    </tr>\n",
              "    <tr>\n",
              "      <th>477</th>\n",
              "      <td>father son relationship</td>\n",
              "      <td>55</td>\n",
              "    </tr>\n",
              "    <tr>\n",
              "      <th>1241</th>\n",
              "      <td>prison</td>\n",
              "      <td>55</td>\n",
              "    </tr>\n",
              "    <tr>\n",
              "      <th>257</th>\n",
              "      <td>suspense</td>\n",
              "      <td>54</td>\n",
              "    </tr>\n",
              "    <tr>\n",
              "      <th>963</th>\n",
              "      <td>wedding</td>\n",
              "      <td>48</td>\n",
              "    </tr>\n",
              "    <tr>\n",
              "      <th>739</th>\n",
              "      <td>dying and death</td>\n",
              "      <td>47</td>\n",
              "    </tr>\n",
              "    <tr>\n",
              "      <th>518</th>\n",
              "      <td>remake</td>\n",
              "      <td>46</td>\n",
              "    </tr>\n",
              "    <tr>\n",
              "      <th>1289</th>\n",
              "      <td>fbi</td>\n",
              "      <td>44</td>\n",
              "    </tr>\n",
              "    <tr>\n",
              "      <th>131</th>\n",
              "      <td>daughter</td>\n",
              "      <td>43</td>\n",
              "    </tr>\n",
              "    <tr>\n",
              "      <th>637</th>\n",
              "      <td>kidnapping</td>\n",
              "      <td>43</td>\n",
              "    </tr>\n",
              "    <tr>\n",
              "      <th>1723</th>\n",
              "      <td>nudity</td>\n",
              "      <td>43</td>\n",
              "    </tr>\n",
              "    <tr>\n",
              "      <th>759</th>\n",
              "      <td>london england</td>\n",
              "      <td>43</td>\n",
              "    </tr>\n",
              "    <tr>\n",
              "      <th>91</th>\n",
              "      <td>magic</td>\n",
              "      <td>42</td>\n",
              "    </tr>\n",
              "    <tr>\n",
              "      <th>1421</th>\n",
              "      <td>investigation</td>\n",
              "      <td>42</td>\n",
              "    </tr>\n",
              "    <tr>\n",
              "      <th>725</th>\n",
              "      <td>airplane</td>\n",
              "      <td>41</td>\n",
              "    </tr>\n",
              "    <tr>\n",
              "      <th>166</th>\n",
              "      <td>time travel</td>\n",
              "      <td>41</td>\n",
              "    </tr>\n",
              "    <tr>\n",
              "      <th>25</th>\n",
              "      <td>love of one's life</td>\n",
              "      <td>41</td>\n",
              "    </tr>\n",
              "    <tr>\n",
              "      <th>104</th>\n",
              "      <td>based on comic book</td>\n",
              "      <td>41</td>\n",
              "    </tr>\n",
              "    <tr>\n",
              "      <th>1860</th>\n",
              "      <td>serial killer</td>\n",
              "      <td>40</td>\n",
              "    </tr>\n",
              "    <tr>\n",
              "      <th>559</th>\n",
              "      <td>brother brother relationship</td>\n",
              "      <td>40</td>\n",
              "    </tr>\n",
              "    <tr>\n",
              "      <th>1519</th>\n",
              "      <td>party</td>\n",
              "      <td>40</td>\n",
              "    </tr>\n",
              "    <tr>\n",
              "      <th>543</th>\n",
              "      <td>suicide</td>\n",
              "      <td>40</td>\n",
              "    </tr>\n",
              "    <tr>\n",
              "      <th>70</th>\n",
              "      <td>escape</td>\n",
              "      <td>39</td>\n",
              "    </tr>\n",
              "    <tr>\n",
              "      <th>171</th>\n",
              "      <td>corruption</td>\n",
              "      <td>39</td>\n",
              "    </tr>\n",
              "    <tr>\n",
              "      <th>501</th>\n",
              "      <td>explosion</td>\n",
              "      <td>39</td>\n",
              "    </tr>\n",
              "    <tr>\n",
              "      <th>665</th>\n",
              "      <td>cia</td>\n",
              "      <td>39</td>\n",
              "    </tr>\n",
              "    <tr>\n",
              "      <th>1328</th>\n",
              "      <td>new love</td>\n",
              "      <td>38</td>\n",
              "    </tr>\n",
              "    <tr>\n",
              "      <th>389</th>\n",
              "      <td>friends</td>\n",
              "      <td>38</td>\n",
              "    </tr>\n",
              "    <tr>\n",
              "      <th>494</th>\n",
              "      <td>secret</td>\n",
              "      <td>37</td>\n",
              "    </tr>\n",
              "    <tr>\n",
              "      <th>203</th>\n",
              "      <td>based on young adult novel</td>\n",
              "      <td>37</td>\n",
              "    </tr>\n",
              "    <tr>\n",
              "      <th>137</th>\n",
              "      <td>lawyer</td>\n",
              "      <td>37</td>\n",
              "    </tr>\n",
              "    <tr>\n",
              "      <th>664</th>\n",
              "      <td>hospital</td>\n",
              "      <td>37</td>\n",
              "    </tr>\n",
              "    <tr>\n",
              "      <th>1148</th>\n",
              "      <td>shootout</td>\n",
              "      <td>36</td>\n",
              "    </tr>\n",
              "    <tr>\n",
              "      <th>228</th>\n",
              "      <td>fight</td>\n",
              "      <td>36</td>\n",
              "    </tr>\n",
              "    <tr>\n",
              "      <th>1155</th>\n",
              "      <td>flashback</td>\n",
              "      <td>36</td>\n",
              "    </tr>\n",
              "  </tbody>\n",
              "</table>\n",
              "</div>"
            ],
            "text/plain": [
              "                          Keywords  Number of Occurrence\n",
              "101           duringcreditsstinger                   252\n",
              "407                 woman director                   181\n",
              "38                  based on novel                   155\n",
              "1802              independent film                   147\n",
              "36             aftercreditsstinger                   131\n",
              "499                         murder                   121\n",
              "1150                      violence                   111\n",
              "309                       dystopia                    97\n",
              "1535                         sport                    83\n",
              "89                         revenge                    81\n",
              "358                     friendship                    77\n",
              "20                              3d                    73\n",
              "40                          sequel                    73\n",
              "1721                           sex                    72\n",
              "156                       new york                    70\n",
              "746                       teenager                    69\n",
              "217                           love                    68\n",
              "1564                     biography                    66\n",
              "342                    los angeles                    63\n",
              "1399                        police                    61\n",
              "54                       superhero                    60\n",
              "3766                   high school                    59\n",
              "94                         musical                    57\n",
              "9                            alien                    56\n",
              "508                         family                    55\n",
              "1739                          drug                    55\n",
              "477        father son relationship                    55\n",
              "1241                        prison                    55\n",
              "257                       suspense                    54\n",
              "963                        wedding                    48\n",
              "739                dying and death                    47\n",
              "518                         remake                    46\n",
              "1289                           fbi                    44\n",
              "131                       daughter                    43\n",
              "637                     kidnapping                    43\n",
              "1723                        nudity                    43\n",
              "759                 london england                    43\n",
              "91                           magic                    42\n",
              "1421                 investigation                    42\n",
              "725                       airplane                    41\n",
              "166                    time travel                    41\n",
              "25              love of one's life                    41\n",
              "104            based on comic book                    41\n",
              "1860                 serial killer                    40\n",
              "559   brother brother relationship                    40\n",
              "1519                         party                    40\n",
              "543                        suicide                    40\n",
              "70                          escape                    39\n",
              "171                     corruption                    39\n",
              "501                      explosion                    39\n",
              "665                            cia                    39\n",
              "1328                      new love                    38\n",
              "389                        friends                    38\n",
              "494                         secret                    37\n",
              "203     based on young adult novel                    37\n",
              "137                         lawyer                    37\n",
              "664                       hospital                    37\n",
              "1148                      shootout                    36\n",
              "228                          fight                    36\n",
              "1155                     flashback                    36"
            ]
          },
          "metadata": {
            "tags": []
          },
          "execution_count": 39
        }
      ]
    },
    {
      "cell_type": "code",
      "metadata": {
        "id": "cwEqtN6uVcKa",
        "colab": {
          "base_uri": "https://localhost:8080/"
        },
        "outputId": "3b7fa279-5f34-42c3-f5b8-a1354159e3d5"
      },
      "source": [
        "len(keyword_df[keyword_df['Number of Occurrence'] > 35])"
      ],
      "execution_count": null,
      "outputs": [
        {
          "output_type": "execute_result",
          "data": {
            "text/plain": [
              "60"
            ]
          },
          "metadata": {
            "tags": []
          },
          "execution_count": 40
        }
      ]
    },
    {
      "cell_type": "code",
      "metadata": {
        "id": "5DVMjumYgLoM",
        "colab": {
          "base_uri": "https://localhost:8080/",
          "height": 312
        },
        "outputId": "2e828b81-551f-4c89-a1b1-f6e77324bb77"
      },
      "source": [
        "#distribution of frequency of the keywords in all movies\n",
        "keyword_df[keyword_df['Number of Occurrence'] > 35].hist(bins = 50)\n",
        "plt.title(\"Distribution of the frequency of the keywords in all movies\")\n",
        "plt.xlabel('Number of Occurrence')\n",
        "plt.ylabel('Frequency')\n",
        "\n",
        "# adjust weight on the small types "
      ],
      "execution_count": null,
      "outputs": [
        {
          "output_type": "execute_result",
          "data": {
            "text/plain": [
              "Text(0, 0.5, 'Frequency')"
            ]
          },
          "metadata": {
            "tags": []
          },
          "execution_count": 41
        },
        {
          "output_type": "display_data",
          "data": {
            "image/png": "[encoded data removed]",
            "text/plain": [
              "<Figure size 432x288 with 1 Axes>"
            ]
          },
          "metadata": {
            "tags": [],
            "needs_background": "light"
          }
        }
      ]
    },
    {
      "cell_type": "code",
      "metadata": {
        "id": "BTg_S1FOL5dQ"
      },
      "source": [
        "top_keywords = keyword_df[keyword_df['Number of Occurrence'] > 35]['Keywords']"
      ],
      "execution_count": null,
      "outputs": []
    },
    {
      "cell_type": "code",
      "metadata": {
        "id": "d2RfP4h74Qyi",
        "colab": {
          "base_uri": "https://localhost:8080/"
        },
        "outputId": "824719ea-76c9-4dec-c639-9817871d2d39"
      },
      "source": [
        "top_keywords"
      ],
      "execution_count": null,
      "outputs": [
        {
          "output_type": "execute_result",
          "data": {
            "text/plain": [
              "9                              alien\n",
              "20                                3d\n",
              "25                love of one's life\n",
              "36               aftercreditsstinger\n",
              "38                    based on novel\n",
              "40                            sequel\n",
              "54                         superhero\n",
              "70                            escape\n",
              "89                           revenge\n",
              "91                             magic\n",
              "94                           musical\n",
              "101             duringcreditsstinger\n",
              "104              based on comic book\n",
              "131                         daughter\n",
              "137                           lawyer\n",
              "156                         new york\n",
              "166                      time travel\n",
              "171                       corruption\n",
              "203       based on young adult novel\n",
              "217                             love\n",
              "228                            fight\n",
              "257                         suspense\n",
              "309                         dystopia\n",
              "342                      los angeles\n",
              "358                       friendship\n",
              "389                          friends\n",
              "407                   woman director\n",
              "477          father son relationship\n",
              "494                           secret\n",
              "499                           murder\n",
              "501                        explosion\n",
              "508                           family\n",
              "518                           remake\n",
              "543                          suicide\n",
              "559     brother brother relationship\n",
              "637                       kidnapping\n",
              "664                         hospital\n",
              "665                              cia\n",
              "725                         airplane\n",
              "739                  dying and death\n",
              "746                         teenager\n",
              "759                   london england\n",
              "963                          wedding\n",
              "1148                        shootout\n",
              "1150                        violence\n",
              "1155                       flashback\n",
              "1241                          prison\n",
              "1289                             fbi\n",
              "1328                        new love\n",
              "1399                          police\n",
              "1421                   investigation\n",
              "1519                           party\n",
              "1535                           sport\n",
              "1564                       biography\n",
              "1721                             sex\n",
              "1723                          nudity\n",
              "1739                            drug\n",
              "1802                independent film\n",
              "1860                   serial killer\n",
              "3766                     high school\n",
              "Name: Keywords, dtype: object"
            ]
          },
          "metadata": {
            "tags": []
          },
          "execution_count": 43
        }
      ]
    },
    {
      "cell_type": "code",
      "metadata": {
        "id": "t-dBhoytLm_h"
      },
      "source": [
        "# Build a column that contain the only the top 60 keywords\n",
        "# define a helper function that only keep the keywords we want\n",
        "def top_keyword(keywordArr):\n",
        "  result = []\n",
        "  for keyword in keywordArr:\n",
        "    name = keyword['name']\n",
        "    if not top_keywords[top_keywords.isin([name])].empty:\n",
        "      result.append(keyword)\n",
        "  return result"
      ],
      "execution_count": null,
      "outputs": []
    },
    {
      "cell_type": "code",
      "metadata": {
        "id": "nY3u-7rzMcyX"
      },
      "source": [
        "final_join.loc[:,'top_keyword'] = final_join['keywords'].apply(lambda x: top_keyword(x))\n",
        "final_join.loc[:,'numTopKeyword'] = final_join['top_keyword'].apply(lambda x: len(x))"
      ],
      "execution_count": null,
      "outputs": []
    },
    {
      "cell_type": "markdown",
      "metadata": {
        "id": "4kEOVhxQ7AWA"
      },
      "source": [
        "genres"
      ]
    },
    {
      "cell_type": "code",
      "metadata": {
        "id": "u3jRiRm86b_3",
        "colab": {
          "base_uri": "https://localhost:8080/",
          "height": 35
        },
        "outputId": "f575bf12-9fc3-474c-8e28-e60da959c4f1"
      },
      "source": [
        "#genres for each movie in dictionary\n",
        "final_join['genres'][0]"
      ],
      "execution_count": null,
      "outputs": [
        {
          "output_type": "execute_result",
          "data": {
            "application/vnd.google.colaboratory.intrinsic+json": {
              "type": "string"
            },
            "text/plain": [
              "'[{\"id\": 28, \"name\": \"Action\"}, {\"id\": 12, \"name\": \"Adventure\"}, {\"id\": 14, \"name\": \"Fantasy\"}, {\"id\": 878, \"name\": \"Science Fiction\"}]'"
            ]
          },
          "metadata": {
            "tags": []
          },
          "execution_count": 46
        }
      ]
    },
    {
      "cell_type": "code",
      "metadata": {
        "id": "0h3g3R026kyL"
      },
      "source": [
        "#convert str into dictionary\n",
        "final_join.loc[:,'genres'] = final_join['genres'].apply(lambda x: ast.literal_eval(x))\n",
        "final_join.loc[:,'numGenres'] = final_join['genres'].apply(lambda x: len(x))"
      ],
      "execution_count": null,
      "outputs": []
    },
    {
      "cell_type": "code",
      "metadata": {
        "id": "3n9ttdni6s33",
        "colab": {
          "base_uri": "https://localhost:8080/",
          "height": 312
        },
        "outputId": "9c910e1e-b652-40c1-c54b-70fdc109b12f"
      },
      "source": [
        "plt.hist(final_join['numGenres'], bins = 20)\n",
        "plt.title(\"Distribution of the number of the genres of each movie\")\n",
        "plt.xlabel('Number of genres')\n",
        "plt.ylabel('Count')"
      ],
      "execution_count": null,
      "outputs": [
        {
          "output_type": "execute_result",
          "data": {
            "text/plain": [
              "Text(0, 0.5, 'Count')"
            ]
          },
          "metadata": {
            "tags": []
          },
          "execution_count": 48
        },
        {
          "output_type": "display_data",
          "data": {
            "image/png": "[encoded data removed]",
            "text/plain": [
              "<Figure size 432x288 with 1 Axes>"
            ]
          },
          "metadata": {
            "tags": [],
            "needs_background": "light"
          }
        }
      ]
    },
    {
      "cell_type": "code",
      "metadata": {
        "id": "nt4V-fdw6vkj"
      },
      "source": [
        "genres = [val for sublist in final_join['genres'].to_list() for val in sublist]"
      ],
      "execution_count": null,
      "outputs": []
    },
    {
      "cell_type": "code",
      "metadata": {
        "id": "F6J9Zpxh6yMF",
        "colab": {
          "base_uri": "https://localhost:8080/"
        },
        "outputId": "5f3283fc-4932-4119-9582-303ca7381484"
      },
      "source": [
        "len(list({v['id']:v for v in genres}.values()))"
      ],
      "execution_count": null,
      "outputs": [
        {
          "output_type": "execute_result",
          "data": {
            "text/plain": [
              "18"
            ]
          },
          "metadata": {
            "tags": []
          },
          "execution_count": 50
        }
      ]
    },
    {
      "cell_type": "code",
      "metadata": {
        "id": "kNGAzUBt6yu2"
      },
      "source": [
        "result = {}\n",
        "for v in genres:\n",
        "  name = v['name']\n",
        "  if name in result:\n",
        "    result[name] += 1\n",
        "  else:\n",
        "    result[name] = 1\n",
        "genres_df = pd.DataFrame(list(result.items()), columns = ['Genres','Number of Occurrence'])"
      ],
      "execution_count": null,
      "outputs": []
    },
    {
      "cell_type": "code",
      "metadata": {
        "id": "h4FGrbZI62j9",
        "colab": {
          "base_uri": "https://localhost:8080/",
          "height": 607
        },
        "outputId": "6c5addee-919b-4dca-f572-920f38a748f5"
      },
      "source": [
        "genres_df.sort_values('Number of Occurrence', ascending= False)"
      ],
      "execution_count": null,
      "outputs": [
        {
          "output_type": "execute_result",
          "data": {
            "text/html": [
              "<div>\n",
              "<style scoped>\n",
              "    .dataframe tbody tr th:only-of-type {\n",
              "        vertical-align: middle;\n",
              "    }\n",
              "\n",
              "    .dataframe tbody tr th {\n",
              "        vertical-align: top;\n",
              "    }\n",
              "\n",
              "    .dataframe thead th {\n",
              "        text-align: right;\n",
              "    }\n",
              "</style>\n",
              "<table border=\"1\" class=\"dataframe\">\n",
              "  <thead>\n",
              "    <tr style=\"text-align: right;\">\n",
              "      <th></th>\n",
              "      <th>Genres</th>\n",
              "      <th>Number of Occurrence</th>\n",
              "    </tr>\n",
              "  </thead>\n",
              "  <tbody>\n",
              "    <tr>\n",
              "      <th>5</th>\n",
              "      <td>Drama</td>\n",
              "      <td>1369</td>\n",
              "    </tr>\n",
              "    <tr>\n",
              "      <th>10</th>\n",
              "      <td>Comedy</td>\n",
              "      <td>1170</td>\n",
              "    </tr>\n",
              "    <tr>\n",
              "      <th>6</th>\n",
              "      <td>Thriller</td>\n",
              "      <td>855</td>\n",
              "    </tr>\n",
              "    <tr>\n",
              "      <th>0</th>\n",
              "      <td>Action</td>\n",
              "      <td>808</td>\n",
              "    </tr>\n",
              "    <tr>\n",
              "      <th>1</th>\n",
              "      <td>Adventure</td>\n",
              "      <td>576</td>\n",
              "    </tr>\n",
              "    <tr>\n",
              "      <th>11</th>\n",
              "      <td>Romance</td>\n",
              "      <td>570</td>\n",
              "    </tr>\n",
              "    <tr>\n",
              "      <th>4</th>\n",
              "      <td>Crime</td>\n",
              "      <td>499</td>\n",
              "    </tr>\n",
              "    <tr>\n",
              "      <th>3</th>\n",
              "      <td>Science Fiction</td>\n",
              "      <td>349</td>\n",
              "    </tr>\n",
              "    <tr>\n",
              "      <th>8</th>\n",
              "      <td>Family</td>\n",
              "      <td>349</td>\n",
              "    </tr>\n",
              "    <tr>\n",
              "      <th>2</th>\n",
              "      <td>Fantasy</td>\n",
              "      <td>320</td>\n",
              "    </tr>\n",
              "    <tr>\n",
              "      <th>12</th>\n",
              "      <td>Horror</td>\n",
              "      <td>280</td>\n",
              "    </tr>\n",
              "    <tr>\n",
              "      <th>13</th>\n",
              "      <td>Mystery</td>\n",
              "      <td>237</td>\n",
              "    </tr>\n",
              "    <tr>\n",
              "      <th>7</th>\n",
              "      <td>Animation</td>\n",
              "      <td>163</td>\n",
              "    </tr>\n",
              "    <tr>\n",
              "      <th>14</th>\n",
              "      <td>History</td>\n",
              "      <td>106</td>\n",
              "    </tr>\n",
              "    <tr>\n",
              "      <th>16</th>\n",
              "      <td>Music</td>\n",
              "      <td>87</td>\n",
              "    </tr>\n",
              "    <tr>\n",
              "      <th>15</th>\n",
              "      <td>War</td>\n",
              "      <td>83</td>\n",
              "    </tr>\n",
              "    <tr>\n",
              "      <th>9</th>\n",
              "      <td>Western</td>\n",
              "      <td>31</td>\n",
              "    </tr>\n",
              "    <tr>\n",
              "      <th>17</th>\n",
              "      <td>Foreign</td>\n",
              "      <td>2</td>\n",
              "    </tr>\n",
              "  </tbody>\n",
              "</table>\n",
              "</div>"
            ],
            "text/plain": [
              "             Genres  Number of Occurrence\n",
              "5             Drama                  1369\n",
              "10           Comedy                  1170\n",
              "6          Thriller                   855\n",
              "0            Action                   808\n",
              "1         Adventure                   576\n",
              "11          Romance                   570\n",
              "4             Crime                   499\n",
              "3   Science Fiction                   349\n",
              "8            Family                   349\n",
              "2           Fantasy                   320\n",
              "12           Horror                   280\n",
              "13          Mystery                   237\n",
              "7         Animation                   163\n",
              "14          History                   106\n",
              "16            Music                    87\n",
              "15              War                    83\n",
              "9           Western                    31\n",
              "17          Foreign                     2"
            ]
          },
          "metadata": {
            "tags": []
          },
          "execution_count": 52
        }
      ]
    },
    {
      "cell_type": "markdown",
      "metadata": {
        "id": "N9-R8domf2ag"
      },
      "source": [
        "2. EDA and Data Cleaning - Oscar"
      ]
    },
    {
      "cell_type": "code",
      "metadata": {
        "id": "Mijqj8OWwork"
      },
      "source": [
        "# Merge Oscar directing awards and calculate number of candidates and wins\n",
        "oscar_directing = oscar.loc[oscar['category'] == 'DIRECTING']\n",
        "oscar_movie = pd.merge(final_join, oscar_directing, left_on = 'director', right_on = 'name', how = 'left')\n",
        "oscar_movie['candidate'] = (oscar_movie['winner'] >= 0) & (oscar_movie['year_ceremony'] < oscar_movie['released'].str.split('-').apply(lambda x: int(x[0])))\n",
        "oscar_movie['win'] = (oscar_movie['winner'] == 1) & (oscar_movie['year_ceremony'] < oscar_movie['released'].str.split('-').apply(lambda x: int(x[0])))\n",
        "oscar_movie_groupby = oscar_movie.groupby(['director', 'released'], sort = False)[['candidate', 'win']].aggregate('sum').reset_index()\n",
        "final_join['candidate_director'] = oscar_movie_groupby['candidate']\n",
        "final_join['win_director'] = oscar_movie_groupby['win']"
      ],
      "execution_count": null,
      "outputs": []
    },
    {
      "cell_type": "code",
      "metadata": {
        "id": "hjE7o2_X3YUx"
      },
      "source": [
        "# Process main character information and extract 2 main characters\n",
        "final_join['main_char'] = final_join['cast'].apply(lambda x: eval(x)[:2])\n",
        "\n",
        "final_join['main_1_name'] = final_join['main_char'].apply(lambda x: x[0]['name'] if len(x) > 0 else '')\n",
        "\n",
        "final_join['main_2_name'] = final_join['main_char'].apply(lambda x: x[1]['name'] if len(x) > 1 else '')"
      ],
      "execution_count": null,
      "outputs": []
    },
    {
      "cell_type": "code",
      "metadata": {
        "id": "gsEXh2WN3hkm",
        "colab": {
          "base_uri": "https://localhost:8080/"
        },
        "outputId": "cf07c8be-1f1e-4bc9-e6a0-d1c27fa577fa"
      },
      "source": [
        "# Merge Oscar acting awards for 1st main character and calculate number of candidates and wins\n",
        "oscar_acting = oscar.loc[(oscar['category'] == 'ACTOR') | (oscar['category'] == 'ACTRESS') | (oscar['category'] == 'ACTOR IN A LEADING ROLE') |  (oscar['category'] == 'ACTRESS IN A LEADING ROLE')]\n",
        "oscar_acting['gender'] = oscar['category'].apply(lambda x: 1 if x in ['ACTRESS', 'ACTRESS IN A LEADING ROLE'] else 2)\n",
        "\n",
        "oscar_movie_main_1 = pd.merge(final_join, oscar_acting, left_on = 'main_1_name', right_on = 'name', how = 'left')\n",
        "oscar_movie_main_1['candidate'] = (oscar_movie_main_1['winner'] >= 0) & (oscar_movie_main_1['year_ceremony'] < oscar_movie_main_1['released'].str.split('-').apply(lambda x: int(x[0])))\n",
        "oscar_movie_main_1['win'] = (oscar_movie_main_1['winner'] == 1) & (oscar_movie_main_1['year_ceremony'] < oscar_movie_main_1['released'].str.split('-').apply(lambda x: int(x[0])))\n",
        "oscar_movie_main_1_groupby = oscar_movie_main_1.groupby(['main_1_name', 'title_x'], sort = False)[['candidate', 'win']].aggregate('sum').reset_index()\n",
        "final_join['main_1_candidate'] = oscar_movie_main_1_groupby['candidate']\n",
        "final_join['main_1_win'] = oscar_movie_main_1_groupby['win']"
      ],
      "execution_count": null,
      "outputs": [
        {
          "output_type": "stream",
          "text": [
            "/usr/local/lib/python3.6/dist-packages/ipykernel_launcher.py:3: SettingWithCopyWarning: \n",
            "A value is trying to be set on a copy of a slice from a DataFrame.\n",
            "Try using .loc[row_indexer,col_indexer] = value instead\n",
            "\n",
            "See the caveats in the documentation: https://pandas.pydata.org/pandas-docs/stable/user_guide/indexing.html#returning-a-view-versus-a-copy\n",
            "  This is separate from the ipykernel package so we can avoid doing imports until\n"
          ],
          "name": "stderr"
        }
      ]
    },
    {
      "cell_type": "code",
      "metadata": {
        "id": "4VLQPK3k3ntn"
      },
      "source": [
        "# Merge Oscar acting awards for 2nd main character and calculate number of candidates and wins\n",
        "oscar_movie_main_2 = pd.merge(final_join, oscar_acting, left_on = 'main_2_name', right_on = 'name', how = 'left')\n",
        "oscar_movie_main_2['candidate'] = (oscar_movie_main_2['winner'] >= 0) & (oscar_movie_main_2['year_ceremony'] < oscar_movie_main_2['released'].str.split('-').apply(lambda x: int(x[0])))\n",
        "oscar_movie_main_2['win'] = (oscar_movie_main_2['winner'] == 1) & (oscar_movie_main_2['year_ceremony'] < oscar_movie_main_2['released'].str.split('-').apply(lambda x: int(x[0])))\n",
        "oscar_movie_main_2_groupby = oscar_movie_main_2.groupby(['main_2_name', 'title_x'], sort = False)[['candidate', 'win']].aggregate('sum').reset_index()\n",
        "final_join['main_2_candidate'] = oscar_movie_main_2_groupby['candidate']\n",
        "final_join['main_2_win'] = oscar_movie_main_2_groupby['win']"
      ],
      "execution_count": null,
      "outputs": []
    },
    {
      "cell_type": "code",
      "metadata": {
        "id": "1d9FGO_Y32GM"
      },
      "source": [
        "# Calculate sum of candidates and wins of both main characters\n",
        "final_join['main_total_candidate'] = final_join['main_1_candidate'] + final_join['main_2_candidate']\n",
        "final_join['main_total_win'] = final_join['main_1_win'] + final_join['main_2_win']"
      ],
      "execution_count": null,
      "outputs": []
    },
    {
      "cell_type": "code",
      "metadata": {
        "id": "OBoSm59g3thW"
      },
      "source": [
        "# Merge Oscar writing awards and calculate number of candidates and wins\n",
        "writing_options = oscar['category'].loc[oscar['category'].apply(lambda x: re.match('WRITING', x)).notna()].unique()\n",
        "oscar_writing = oscar.loc[oscar['category'].apply(lambda x: x in writing_options)]\n",
        "\n",
        "oscar_movie_writing = pd.merge(final_join, oscar_writing, left_on = 'writer', right_on = 'name', how = 'left')\n",
        "oscar_movie_writing['candidate'] = (oscar_movie_writing['winner'] >= 0) & (oscar_movie_writing['year_ceremony'] < oscar_movie_writing['released'].str.split('-').apply(lambda x: int(x[0])))\n",
        "oscar_movie_writing['win'] = (oscar_movie_writing['winner'] == 1) & (oscar_movie_writing['year_ceremony'] < oscar_movie_writing['released'].str.split('-').apply(lambda x: int(x[0])))\n",
        "oscar_movie_writing_groupby = oscar_movie_writing.groupby(['writer', 'title_x'], sort = False)[['candidate', 'win']].aggregate('sum').reset_index()\n",
        "final_join['writer_candidate'] = oscar_movie_writing_groupby['candidate']\n",
        "final_join['writer_win'] = oscar_movie_writing_groupby['win']"
      ],
      "execution_count": null,
      "outputs": []
    },
    {
      "cell_type": "markdown",
      "metadata": {
        "id": "Dgxv4EWN6gZv"
      },
      "source": [
        "Inflation\n",
        "\n",
        "Justify all movie revenue to the CPI (Consumer Price Index) in 2020 Sep"
      ]
    },
    {
      "cell_type": "code",
      "metadata": {
        "id": "zLUhB5_69Hln"
      },
      "source": [
        "# define a function that convert monthly inflation rate to an annual inflation rate\n",
        "def toAccumulativeYear(df):\n",
        "  result = []\n",
        "  first_row = True\n",
        "  curr_cumulative_inf = 0\n",
        "  for inf in df['Annual Inflation rate percent']:\n",
        "    if first_row:\n",
        "      result.append(0)\n",
        "      first_row = False\n",
        "    else: \n",
        "      curr_cumulative_inf = (curr_cumulative_inf + 1) * (inf/100 + 1) - 1\n",
        "      result.append(curr_cumulative_inf)\n",
        "  result = pd.DataFrame(result, index=df.index, columns=[\"Annual Inflation rate\"])\n",
        "  return result"
      ],
      "execution_count": null,
      "outputs": []
    },
    {
      "cell_type": "code",
      "metadata": {
        "id": "vzABdc7TiEJr"
      },
      "source": [
        "inflation = inflation.iloc[inflation.index >= 1986]\n",
        "inflation_year = inflation['DEC']\n",
        "inflation_year=inflation_year.to_frame()\n",
        "inflation_year.columns = ['Annual Inflation rate percent']\n",
        "inflation_year = inflation_year.iloc[:-1,:]\n",
        "# this is in percent\n",
        "# 1.1 means 1.1%"
      ],
      "execution_count": null,
      "outputs": []
    },
    {
      "cell_type": "code",
      "metadata": {
        "id": "q5un2jqMndAt"
      },
      "source": [
        "inflation_base1986 = toAccumulativeYear(inflation_year)\n",
        "# This is not in percent\n",
        "# 1.325 means 132.5%"
      ],
      "execution_count": null,
      "outputs": []
    },
    {
      "cell_type": "code",
      "metadata": {
        "id": "6ofmUWuNvlih",
        "colab": {
          "base_uri": "https://localhost:8080/"
        },
        "outputId": "ab43107e-e1d4-4e78-e87e-3d980c11de0b"
      },
      "source": [
        "inflation_base1986.loc[1986]"
      ],
      "execution_count": null,
      "outputs": [
        {
          "output_type": "execute_result",
          "data": {
            "text/plain": [
              "Annual Inflation rate    0.0\n",
              "Name: 1986, dtype: float64"
            ]
          },
          "metadata": {
            "tags": []
          },
          "execution_count": 62
        }
      ]
    },
    {
      "cell_type": "code",
      "metadata": {
        "id": "i4WVnCRia2wc"
      },
      "source": [
        "# takes in 2 variables from each row\n",
        "def to2019(budget, year):\n",
        "  budget_1986 = budget/(1+inflation_base1986.loc[year])\n",
        "  budget_2019 = budget_1986*(1+inflation_base1986.loc[year])\n",
        "  return budget_2019\n",
        "# use this to convert all movie budgets"
      ],
      "execution_count": null,
      "outputs": []
    },
    {
      "cell_type": "code",
      "metadata": {
        "id": "EVdEmtjUvX3J",
        "colab": {
          "base_uri": "https://localhost:8080/"
        },
        "outputId": "e5e37dd5-4c5a-4532-9eb4-d3bf575ecb41"
      },
      "source": [
        "final_join.year.dtypes"
      ],
      "execution_count": null,
      "outputs": [
        {
          "output_type": "execute_result",
          "data": {
            "text/plain": [
              "dtype('int64')"
            ]
          },
          "metadata": {
            "tags": []
          },
          "execution_count": 64
        }
      ]
    },
    {
      "cell_type": "code",
      "metadata": {
        "id": "EHoDmwENrVAd"
      },
      "source": [
        "#change budget\n",
        "final_join['budget'] = final_join.apply(lambda x: to2019(x['budget'],x['year']),axis = 1)"
      ],
      "execution_count": null,
      "outputs": []
    },
    {
      "cell_type": "code",
      "metadata": {
        "id": "rLRD6XgGwR6V"
      },
      "source": [
        "#change revenue\n",
        "final_join['gross'] = final_join.apply(lambda x: to2019(x['gross'],x['year']),axis = 1)"
      ],
      "execution_count": null,
      "outputs": []
    },
    {
      "cell_type": "code",
      "metadata": {
        "id": "sd-yvwKrU5vi"
      },
      "source": [
        "final_join['release_month'] = final_join['release_date'].dt.month"
      ],
      "execution_count": null,
      "outputs": []
    },
    {
      "cell_type": "code",
      "metadata": {
        "id": "dDdE7RSH4e7N"
      },
      "source": [
        "final_join = final_join.drop(columns = ['homepage','id','keywords','overview','popularity','production_companies','production_countries','spoken_languages',\n",
        "                           'status','tagline','title_y','vote_average','vote_count','movie_id','cast','crew','budget_y','name','released',\n",
        "                           'runtime_y', 'score','votes','year','numKeywords','main_char','revenue','budget_x', 'release_date'])\n",
        "final_join = final_join.drop(columns = 'index')"
      ],
      "execution_count": null,
      "outputs": []
    },
    {
      "cell_type": "code",
      "metadata": {
        "id": "VgT_loDNmMTW"
      },
      "source": [
        "final_join['gross'] = np.log(final_join['gross'])\n",
        "final_join['budget'] = np.log(final_join['budget'])"
      ],
      "execution_count": null,
      "outputs": []
    },
    {
      "cell_type": "code",
      "metadata": {
        "id": "5G7vpAqipdMz"
      },
      "source": [
        "final_join.to_csv('/content/drive/My Drive/academic/1001FinalProject/data/analysis_base_table.csv')"
      ],
      "execution_count": null,
      "outputs": []
    },
    {
      "cell_type": "code",
      "metadata": {
        "id": "LqbMqV4oTtf2"
      },
      "source": [
        ""
      ],
      "execution_count": null,
      "outputs": []
    }
  ]
}